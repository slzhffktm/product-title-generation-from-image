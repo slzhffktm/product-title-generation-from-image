{
 "cells": [
  {
   "cell_type": "code",
   "execution_count": 22,
   "metadata": {},
   "outputs": [
    {
     "name": "stderr",
     "output_type": "stream",
     "text": [
      "/opt/conda/lib/python3.7/site-packages/ipykernel_launcher.py:2: TqdmExperimentalWarning: Using `tqdm.autonotebook.tqdm` in notebook mode. Use `tqdm.tqdm` instead to force console mode (e.g. in jupyter console)\n",
      "  \n",
      "/opt/conda/lib/python3.7/site-packages/tqdm/std.py:666: FutureWarning: The Panel class is removed from pandas. Accessing it from the top-level namespace will also be removed in the next version\n",
      "  from pandas import Panel\n"
     ]
    }
   ],
   "source": [
    "import pandas as pd\n",
    "from tqdm.autonotebook import tqdm\n",
    "tqdm.pandas()\n",
    "\n",
    "import os\n",
    "import re\n",
    "import string\n",
    "\n",
    "from nltk.tokenize import word_tokenize\n",
    "from nltk.corpus import stopwords\n",
    "from nltk import FreqDist"
   ]
  },
  {
   "cell_type": "markdown",
   "metadata": {},
   "source": [
    "## Import Data"
   ]
  },
  {
   "cell_type": "code",
   "execution_count": 23,
   "metadata": {},
   "outputs": [],
   "source": [
    "rows = []\n",
    "with open(\"data/styles.csv\", 'r') as f:\n",
    "    keys = next(f).split(',')\n",
    "    for line in f:\n",
    "        rows.append(dict(zip(keys, line.split(',', 10))))"
   ]
  },
  {
   "cell_type": "code",
   "execution_count": 24,
   "metadata": {},
   "outputs": [],
   "source": [
    "df = pd.DataFrame(rows)\n",
    "df = df.rename(columns={\"productDisplayName\\n\": \"title\"})\n",
    "df.title = df.title.apply(lambda x: x.strip())"
   ]
  },
  {
   "cell_type": "code",
   "execution_count": 25,
   "metadata": {},
   "outputs": [
    {
     "data": {
      "text/html": [
       "<div>\n",
       "<style scoped>\n",
       "    .dataframe tbody tr th:only-of-type {\n",
       "        vertical-align: middle;\n",
       "    }\n",
       "\n",
       "    .dataframe tbody tr th {\n",
       "        vertical-align: top;\n",
       "    }\n",
       "\n",
       "    .dataframe thead th {\n",
       "        text-align: right;\n",
       "    }\n",
       "</style>\n",
       "<table border=\"1\" class=\"dataframe\">\n",
       "  <thead>\n",
       "    <tr style=\"text-align: right;\">\n",
       "      <th></th>\n",
       "      <th>id</th>\n",
       "      <th>gender</th>\n",
       "      <th>masterCategory</th>\n",
       "      <th>subCategory</th>\n",
       "      <th>articleType</th>\n",
       "      <th>baseColour</th>\n",
       "      <th>season</th>\n",
       "      <th>year</th>\n",
       "      <th>usage</th>\n",
       "      <th>title</th>\n",
       "    </tr>\n",
       "  </thead>\n",
       "  <tbody>\n",
       "    <tr>\n",
       "      <th>0</th>\n",
       "      <td>15970</td>\n",
       "      <td>Men</td>\n",
       "      <td>Apparel</td>\n",
       "      <td>Topwear</td>\n",
       "      <td>Shirts</td>\n",
       "      <td>Navy Blue</td>\n",
       "      <td>Fall</td>\n",
       "      <td>2011</td>\n",
       "      <td>Casual</td>\n",
       "      <td>Turtle Check Men Navy Blue Shirt</td>\n",
       "    </tr>\n",
       "    <tr>\n",
       "      <th>1</th>\n",
       "      <td>39386</td>\n",
       "      <td>Men</td>\n",
       "      <td>Apparel</td>\n",
       "      <td>Bottomwear</td>\n",
       "      <td>Jeans</td>\n",
       "      <td>Blue</td>\n",
       "      <td>Summer</td>\n",
       "      <td>2012</td>\n",
       "      <td>Casual</td>\n",
       "      <td>Peter England Men Party Blue Jeans</td>\n",
       "    </tr>\n",
       "    <tr>\n",
       "      <th>2</th>\n",
       "      <td>59263</td>\n",
       "      <td>Women</td>\n",
       "      <td>Accessories</td>\n",
       "      <td>Watches</td>\n",
       "      <td>Watches</td>\n",
       "      <td>Silver</td>\n",
       "      <td>Winter</td>\n",
       "      <td>2016</td>\n",
       "      <td>Casual</td>\n",
       "      <td>Titan Women Silver Watch</td>\n",
       "    </tr>\n",
       "    <tr>\n",
       "      <th>3</th>\n",
       "      <td>21379</td>\n",
       "      <td>Men</td>\n",
       "      <td>Apparel</td>\n",
       "      <td>Bottomwear</td>\n",
       "      <td>Track Pants</td>\n",
       "      <td>Black</td>\n",
       "      <td>Fall</td>\n",
       "      <td>2011</td>\n",
       "      <td>Casual</td>\n",
       "      <td>Manchester United Men Solid Black Track Pants</td>\n",
       "    </tr>\n",
       "    <tr>\n",
       "      <th>4</th>\n",
       "      <td>53759</td>\n",
       "      <td>Men</td>\n",
       "      <td>Apparel</td>\n",
       "      <td>Topwear</td>\n",
       "      <td>Tshirts</td>\n",
       "      <td>Grey</td>\n",
       "      <td>Summer</td>\n",
       "      <td>2012</td>\n",
       "      <td>Casual</td>\n",
       "      <td>Puma Men Grey T-shirt</td>\n",
       "    </tr>\n",
       "  </tbody>\n",
       "</table>\n",
       "</div>"
      ],
      "text/plain": [
       "      id gender masterCategory subCategory  articleType baseColour  season  \\\n",
       "0  15970    Men        Apparel     Topwear       Shirts  Navy Blue    Fall   \n",
       "1  39386    Men        Apparel  Bottomwear        Jeans       Blue  Summer   \n",
       "2  59263  Women    Accessories     Watches      Watches     Silver  Winter   \n",
       "3  21379    Men        Apparel  Bottomwear  Track Pants      Black    Fall   \n",
       "4  53759    Men        Apparel     Topwear      Tshirts       Grey  Summer   \n",
       "\n",
       "   year   usage                                          title  \n",
       "0  2011  Casual               Turtle Check Men Navy Blue Shirt  \n",
       "1  2012  Casual             Peter England Men Party Blue Jeans  \n",
       "2  2016  Casual                       Titan Women Silver Watch  \n",
       "3  2011  Casual  Manchester United Men Solid Black Track Pants  \n",
       "4  2012  Casual                          Puma Men Grey T-shirt  "
      ]
     },
     "execution_count": 25,
     "metadata": {},
     "output_type": "execute_result"
    }
   ],
   "source": [
    "df.head()"
   ]
  },
  {
   "cell_type": "code",
   "execution_count": 26,
   "metadata": {},
   "outputs": [],
   "source": [
    "titles = df.title"
   ]
  },
  {
   "cell_type": "markdown",
   "metadata": {},
   "source": [
    "## Preprocess Title"
   ]
  },
  {
   "cell_type": "markdown",
   "metadata": {},
   "source": [
    "### Lowercase"
   ]
  },
  {
   "cell_type": "code",
   "execution_count": 27,
   "metadata": {},
   "outputs": [],
   "source": [
    "titles = titles.str.lower()"
   ]
  },
  {
   "cell_type": "markdown",
   "metadata": {},
   "source": [
    "### Remove Numbers "
   ]
  },
  {
   "cell_type": "code",
   "execution_count": 28,
   "metadata": {},
   "outputs": [],
   "source": [
    "titles = titles.str.replace('\\d+', '')"
   ]
  },
  {
   "cell_type": "markdown",
   "metadata": {},
   "source": [
    "### Remove Punctuations Except '-'"
   ]
  },
  {
   "cell_type": "code",
   "execution_count": 29,
   "metadata": {},
   "outputs": [],
   "source": [
    "titles = titles.str.replace(r'[^a-z0-9-]+', ' ')"
   ]
  },
  {
   "cell_type": "markdown",
   "metadata": {},
   "source": [
    "### Tokenize"
   ]
  },
  {
   "cell_type": "code",
   "execution_count": 30,
   "metadata": {},
   "outputs": [],
   "source": [
    "tokenized = titles.apply(lambda title: title.split())"
   ]
  },
  {
   "cell_type": "code",
   "execution_count": 31,
   "metadata": {},
   "outputs": [
    {
     "data": {
      "text/plain": [
       "0              [turtle, check, men, navy, blue, shirt]\n",
       "1            [peter, england, men, party, blue, jeans]\n",
       "2                        [titan, women, silver, watch]\n",
       "3    [manchester, united, men, solid, black, track,...\n",
       "4                           [puma, men, grey, t-shirt]\n",
       "5           [inkfruit, mens, chain, reaction, t-shirt]\n",
       "6               [fabindia, men, striped, green, shirt]\n",
       "7                      [jealous, women, purple, shirt]\n",
       "8                         [puma, men, pack, of, socks]\n",
       "9                          [skagen, men, black, watch]\n",
       "Name: title, dtype: object"
      ]
     },
     "execution_count": 31,
     "metadata": {},
     "output_type": "execute_result"
    }
   ],
   "source": [
    "tokenized.head(10)"
   ]
  },
  {
   "cell_type": "markdown",
   "metadata": {},
   "source": [
    "### Remove '-' If Only '-', '-...', or '...-'"
   ]
  },
  {
   "cell_type": "code",
   "execution_count": 32,
   "metadata": {},
   "outputs": [],
   "source": [
    "def remove_hyphen(tokens):\n",
    "    for i, token in enumerate(tokens):\n",
    "        if token[0] == '-' or token[-1] == '-':\n",
    "            tokens[i] = token.replace('-', '')\n",
    "    \n",
    "    return tokens\n",
    "\n",
    "tokenized = tokenized.apply(remove_hyphen)"
   ]
  },
  {
   "cell_type": "markdown",
   "metadata": {},
   "source": [
    "### Remove One Letter Token and Empty Token"
   ]
  },
  {
   "cell_type": "code",
   "execution_count": 33,
   "metadata": {},
   "outputs": [],
   "source": [
    "tokenized = tokenized.apply(lambda tokens: [token for token in tokens if len(token) > 1])"
   ]
  },
  {
   "cell_type": "code",
   "execution_count": 34,
   "metadata": {},
   "outputs": [
    {
     "data": {
      "text/plain": [
       "0              [turtle, check, men, navy, blue, shirt]\n",
       "1            [peter, england, men, party, blue, jeans]\n",
       "2                        [titan, women, silver, watch]\n",
       "3    [manchester, united, men, solid, black, track,...\n",
       "4                           [puma, men, grey, t-shirt]\n",
       "5           [inkfruit, mens, chain, reaction, t-shirt]\n",
       "6               [fabindia, men, striped, green, shirt]\n",
       "7                      [jealous, women, purple, shirt]\n",
       "8                         [puma, men, pack, of, socks]\n",
       "9                          [skagen, men, black, watch]\n",
       "Name: title, dtype: object"
      ]
     },
     "execution_count": 34,
     "metadata": {},
     "output_type": "execute_result"
    }
   ],
   "source": [
    "tokenized.head(10)"
   ]
  },
  {
   "cell_type": "markdown",
   "metadata": {},
   "source": [
    "### Remove Stopwords"
   ]
  },
  {
   "cell_type": "markdown",
   "metadata": {},
   "source": [
    "Danger! Try not to remove the stopwrods.\n",
    "Refer to this link: https://www.crowdcontent.com/resources/writer/university/seo-keywords/stop-words/ and this https://towardsdatascience.com/why-you-should-avoid-removing-stopwords-aa7a353d2a52"
   ]
  },
  {
   "cell_type": "code",
   "execution_count": 51,
   "metadata": {},
   "outputs": [],
   "source": [
    "# Read file containing stopwords\n",
    "stopwords_list = []\n",
    "with open('product_stopwords.txt') as f:\n",
    "    stopwords_list = f.readlines()\n",
    "\n",
    "stopwords_list = [word.strip() for word in stopwords_list]"
   ]
  },
  {
   "cell_type": "code",
   "execution_count": 52,
   "metadata": {},
   "outputs": [],
   "source": [
    "# Stopwords from NLTK\n",
    "stopwords_list += stopwords.words('indonesian')\n",
    "stopwords_list += stopwords.words('english')\n",
    "stopwords_list = set(stopwords_list)"
   ]
  },
  {
   "cell_type": "code",
   "execution_count": 53,
   "metadata": {},
   "outputs": [],
   "source": [
    "tokenized = tokenized.apply(lambda tokens: [word for word in tokens if word not in stopwords_list])"
   ]
  },
  {
   "cell_type": "code",
   "execution_count": 54,
   "metadata": {},
   "outputs": [
    {
     "data": {
      "text/plain": [
       "0                   [baju, tidur, pria, piyama, satin]\n",
       "1                      [baju, tidur, piyama, pp, pria]\n",
       "2                  [stelan, baju, tidur, pria, piyama]\n",
       "3    [premium, quality, baju, tidur, pria, piyama, ...\n",
       "4                   [baju, tidur, salur, piyama, pria]\n",
       "5    [merah, guava, kaos, kerah, cowok, country, fi...\n",
       "6         [baju, tidur, wanita, piyama, hotpan, motif]\n",
       "7                      [longjohn, pria, abu, abu, tua]\n",
       "8    [longjohn, pria, baju, musim, dingin, pria, ab...\n",
       "9          [piyama, baju, tidur, dewasa, pria, lengan]\n",
       "Name: title, dtype: object"
      ]
     },
     "execution_count": 54,
     "metadata": {},
     "output_type": "execute_result"
    }
   ],
   "source": [
    "tokenized.head(10)"
   ]
  },
  {
   "cell_type": "markdown",
   "metadata": {},
   "source": [
    "### Check Tokens' Frequency"
   ]
  },
  {
   "cell_type": "code",
   "execution_count": 35,
   "metadata": {},
   "outputs": [],
   "source": [
    "tokens_frequency = FreqDist()\n",
    "for tokens in tokenized:\n",
    "    tokens_frequency += FreqDist(tokens)"
   ]
  },
  {
   "cell_type": "code",
   "execution_count": 40,
   "metadata": {},
   "outputs": [
    {
     "data": {
      "text/plain": [
       "7243"
      ]
     },
     "execution_count": 40,
     "metadata": {},
     "output_type": "execute_result"
    }
   ],
   "source": [
    "len(tokens_frequency.most_common())"
   ]
  },
  {
   "cell_type": "code",
   "execution_count": 41,
   "metadata": {},
   "outputs": [],
   "source": [
    "list_token = [token for token, freq in tokens_frequency.most_common()]"
   ]
  },
  {
   "cell_type": "code",
   "execution_count": 43,
   "metadata": {},
   "outputs": [],
   "source": [
    "pd.DataFrame(list_token).to_csv(\"data/token_list\", index=False)"
   ]
  },
  {
   "cell_type": "markdown",
   "metadata": {},
   "source": [
    "### Save"
   ]
  },
  {
   "cell_type": "code",
   "execution_count": 36,
   "metadata": {},
   "outputs": [],
   "source": [
    "df['tokenized'] = tokenized"
   ]
  },
  {
   "cell_type": "code",
   "execution_count": 37,
   "metadata": {},
   "outputs": [
    {
     "data": {
      "text/html": [
       "<div>\n",
       "<style scoped>\n",
       "    .dataframe tbody tr th:only-of-type {\n",
       "        vertical-align: middle;\n",
       "    }\n",
       "\n",
       "    .dataframe tbody tr th {\n",
       "        vertical-align: top;\n",
       "    }\n",
       "\n",
       "    .dataframe thead th {\n",
       "        text-align: right;\n",
       "    }\n",
       "</style>\n",
       "<table border=\"1\" class=\"dataframe\">\n",
       "  <thead>\n",
       "    <tr style=\"text-align: right;\">\n",
       "      <th></th>\n",
       "      <th>id</th>\n",
       "      <th>gender</th>\n",
       "      <th>masterCategory</th>\n",
       "      <th>subCategory</th>\n",
       "      <th>articleType</th>\n",
       "      <th>baseColour</th>\n",
       "      <th>season</th>\n",
       "      <th>year</th>\n",
       "      <th>usage</th>\n",
       "      <th>title</th>\n",
       "      <th>tokenized</th>\n",
       "    </tr>\n",
       "  </thead>\n",
       "  <tbody>\n",
       "    <tr>\n",
       "      <th>0</th>\n",
       "      <td>15970</td>\n",
       "      <td>Men</td>\n",
       "      <td>Apparel</td>\n",
       "      <td>Topwear</td>\n",
       "      <td>Shirts</td>\n",
       "      <td>Navy Blue</td>\n",
       "      <td>Fall</td>\n",
       "      <td>2011</td>\n",
       "      <td>Casual</td>\n",
       "      <td>Turtle Check Men Navy Blue Shirt</td>\n",
       "      <td>[turtle, check, men, navy, blue, shirt]</td>\n",
       "    </tr>\n",
       "    <tr>\n",
       "      <th>1</th>\n",
       "      <td>39386</td>\n",
       "      <td>Men</td>\n",
       "      <td>Apparel</td>\n",
       "      <td>Bottomwear</td>\n",
       "      <td>Jeans</td>\n",
       "      <td>Blue</td>\n",
       "      <td>Summer</td>\n",
       "      <td>2012</td>\n",
       "      <td>Casual</td>\n",
       "      <td>Peter England Men Party Blue Jeans</td>\n",
       "      <td>[peter, england, men, party, blue, jeans]</td>\n",
       "    </tr>\n",
       "    <tr>\n",
       "      <th>2</th>\n",
       "      <td>59263</td>\n",
       "      <td>Women</td>\n",
       "      <td>Accessories</td>\n",
       "      <td>Watches</td>\n",
       "      <td>Watches</td>\n",
       "      <td>Silver</td>\n",
       "      <td>Winter</td>\n",
       "      <td>2016</td>\n",
       "      <td>Casual</td>\n",
       "      <td>Titan Women Silver Watch</td>\n",
       "      <td>[titan, women, silver, watch]</td>\n",
       "    </tr>\n",
       "    <tr>\n",
       "      <th>3</th>\n",
       "      <td>21379</td>\n",
       "      <td>Men</td>\n",
       "      <td>Apparel</td>\n",
       "      <td>Bottomwear</td>\n",
       "      <td>Track Pants</td>\n",
       "      <td>Black</td>\n",
       "      <td>Fall</td>\n",
       "      <td>2011</td>\n",
       "      <td>Casual</td>\n",
       "      <td>Manchester United Men Solid Black Track Pants</td>\n",
       "      <td>[manchester, united, men, solid, black, track,...</td>\n",
       "    </tr>\n",
       "    <tr>\n",
       "      <th>4</th>\n",
       "      <td>53759</td>\n",
       "      <td>Men</td>\n",
       "      <td>Apparel</td>\n",
       "      <td>Topwear</td>\n",
       "      <td>Tshirts</td>\n",
       "      <td>Grey</td>\n",
       "      <td>Summer</td>\n",
       "      <td>2012</td>\n",
       "      <td>Casual</td>\n",
       "      <td>Puma Men Grey T-shirt</td>\n",
       "      <td>[puma, men, grey, t-shirt]</td>\n",
       "    </tr>\n",
       "  </tbody>\n",
       "</table>\n",
       "</div>"
      ],
      "text/plain": [
       "      id gender masterCategory subCategory  articleType baseColour  season  \\\n",
       "0  15970    Men        Apparel     Topwear       Shirts  Navy Blue    Fall   \n",
       "1  39386    Men        Apparel  Bottomwear        Jeans       Blue  Summer   \n",
       "2  59263  Women    Accessories     Watches      Watches     Silver  Winter   \n",
       "3  21379    Men        Apparel  Bottomwear  Track Pants      Black    Fall   \n",
       "4  53759    Men        Apparel     Topwear      Tshirts       Grey  Summer   \n",
       "\n",
       "   year   usage                                          title  \\\n",
       "0  2011  Casual               Turtle Check Men Navy Blue Shirt   \n",
       "1  2012  Casual             Peter England Men Party Blue Jeans   \n",
       "2  2016  Casual                       Titan Women Silver Watch   \n",
       "3  2011  Casual  Manchester United Men Solid Black Track Pants   \n",
       "4  2012  Casual                          Puma Men Grey T-shirt   \n",
       "\n",
       "                                           tokenized  \n",
       "0            [turtle, check, men, navy, blue, shirt]  \n",
       "1          [peter, england, men, party, blue, jeans]  \n",
       "2                      [titan, women, silver, watch]  \n",
       "3  [manchester, united, men, solid, black, track,...  \n",
       "4                         [puma, men, grey, t-shirt]  "
      ]
     },
     "execution_count": 37,
     "metadata": {},
     "output_type": "execute_result"
    }
   ],
   "source": [
    "df.head()"
   ]
  },
  {
   "cell_type": "code",
   "execution_count": 38,
   "metadata": {},
   "outputs": [],
   "source": [
    "df.to_csv('data/styles_with_token.csv', index=False)"
   ]
  },
  {
   "cell_type": "markdown",
   "metadata": {},
   "source": [
    "## Add Image Name to Data"
   ]
  },
  {
   "cell_type": "code",
   "execution_count": 39,
   "metadata": {},
   "outputs": [
    {
     "name": "stderr",
     "output_type": "stream",
     "text": [
      "/opt/conda/lib/python3.7/site-packages/tqdm/std.py:666: FutureWarning: The Panel class is removed from pandas. Accessing it from the top-level namespace will also be removed in the next version\n",
      "  from pandas import Panel\n"
     ]
    }
   ],
   "source": [
    "import pandas as pd\n",
    "from tqdm.autonotebook import tqdm\n",
    "tqdm.pandas()\n",
    "\n",
    "import os"
   ]
  },
  {
   "cell_type": "markdown",
   "metadata": {},
   "source": [
    "### Import Data"
   ]
  },
  {
   "cell_type": "code",
   "execution_count": 40,
   "metadata": {},
   "outputs": [],
   "source": [
    "df = pd.read_csv(\"data/styles_with_token.csv\")"
   ]
  },
  {
   "cell_type": "code",
   "execution_count": 41,
   "metadata": {},
   "outputs": [],
   "source": [
    "# sort df by id\n",
    "df = df.sort_values(by=['id'])"
   ]
  },
  {
   "cell_type": "code",
   "execution_count": 42,
   "metadata": {},
   "outputs": [
    {
     "data": {
      "text/html": [
       "<div>\n",
       "<style scoped>\n",
       "    .dataframe tbody tr th:only-of-type {\n",
       "        vertical-align: middle;\n",
       "    }\n",
       "\n",
       "    .dataframe tbody tr th {\n",
       "        vertical-align: top;\n",
       "    }\n",
       "\n",
       "    .dataframe thead th {\n",
       "        text-align: right;\n",
       "    }\n",
       "</style>\n",
       "<table border=\"1\" class=\"dataframe\">\n",
       "  <thead>\n",
       "    <tr style=\"text-align: right;\">\n",
       "      <th></th>\n",
       "      <th>id</th>\n",
       "      <th>gender</th>\n",
       "      <th>masterCategory</th>\n",
       "      <th>subCategory</th>\n",
       "      <th>articleType</th>\n",
       "      <th>baseColour</th>\n",
       "      <th>season</th>\n",
       "      <th>year</th>\n",
       "      <th>usage</th>\n",
       "      <th>title</th>\n",
       "      <th>tokenized</th>\n",
       "    </tr>\n",
       "  </thead>\n",
       "  <tbody>\n",
       "    <tr>\n",
       "      <th>12904</th>\n",
       "      <td>1163</td>\n",
       "      <td>Men</td>\n",
       "      <td>Apparel</td>\n",
       "      <td>Topwear</td>\n",
       "      <td>Tshirts</td>\n",
       "      <td>Blue</td>\n",
       "      <td>Summer</td>\n",
       "      <td>2011.0</td>\n",
       "      <td>Sports</td>\n",
       "      <td>Nike Sahara Team India Fanwear Round Neck Jersey</td>\n",
       "      <td>['nike', 'sahara', 'team', 'india', 'fanwear',...</td>\n",
       "    </tr>\n",
       "    <tr>\n",
       "      <th>12627</th>\n",
       "      <td>1164</td>\n",
       "      <td>Men</td>\n",
       "      <td>Apparel</td>\n",
       "      <td>Topwear</td>\n",
       "      <td>Tshirts</td>\n",
       "      <td>Blue</td>\n",
       "      <td>Winter</td>\n",
       "      <td>2015.0</td>\n",
       "      <td>Sports</td>\n",
       "      <td>Nike Men Blue T20 Indian Cricket Jersey</td>\n",
       "      <td>['nike', 'men', 'blue', 'indian', 'cricket', '...</td>\n",
       "    </tr>\n",
       "    <tr>\n",
       "      <th>16357</th>\n",
       "      <td>1165</td>\n",
       "      <td>Men</td>\n",
       "      <td>Apparel</td>\n",
       "      <td>Topwear</td>\n",
       "      <td>Tshirts</td>\n",
       "      <td>Blue</td>\n",
       "      <td>Summer</td>\n",
       "      <td>2013.0</td>\n",
       "      <td>Sports</td>\n",
       "      <td>Nike Mean Team India Cricket Jersey</td>\n",
       "      <td>['nike', 'mean', 'team', 'india', 'cricket', '...</td>\n",
       "    </tr>\n",
       "    <tr>\n",
       "      <th>9208</th>\n",
       "      <td>1525</td>\n",
       "      <td>Unisex</td>\n",
       "      <td>Accessories</td>\n",
       "      <td>Bags</td>\n",
       "      <td>Backpacks</td>\n",
       "      <td>Navy Blue</td>\n",
       "      <td>Fall</td>\n",
       "      <td>2010.0</td>\n",
       "      <td>Casual</td>\n",
       "      <td>Puma Deck Navy Blue Backpack</td>\n",
       "      <td>['puma', 'deck', 'navy', 'blue', 'backpack']</td>\n",
       "    </tr>\n",
       "    <tr>\n",
       "      <th>33222</th>\n",
       "      <td>1526</td>\n",
       "      <td>Unisex</td>\n",
       "      <td>Accessories</td>\n",
       "      <td>Bags</td>\n",
       "      <td>Backpacks</td>\n",
       "      <td>Black</td>\n",
       "      <td>Fall</td>\n",
       "      <td>2010.0</td>\n",
       "      <td>Sports</td>\n",
       "      <td>Puma Big Cat Backpack Black</td>\n",
       "      <td>['puma', 'big', 'cat', 'backpack', 'black']</td>\n",
       "    </tr>\n",
       "  </tbody>\n",
       "</table>\n",
       "</div>"
      ],
      "text/plain": [
       "         id  gender masterCategory subCategory articleType baseColour  season  \\\n",
       "12904  1163     Men        Apparel     Topwear     Tshirts       Blue  Summer   \n",
       "12627  1164     Men        Apparel     Topwear     Tshirts       Blue  Winter   \n",
       "16357  1165     Men        Apparel     Topwear     Tshirts       Blue  Summer   \n",
       "9208   1525  Unisex    Accessories        Bags   Backpacks  Navy Blue    Fall   \n",
       "33222  1526  Unisex    Accessories        Bags   Backpacks      Black    Fall   \n",
       "\n",
       "         year   usage                                             title  \\\n",
       "12904  2011.0  Sports  Nike Sahara Team India Fanwear Round Neck Jersey   \n",
       "12627  2015.0  Sports           Nike Men Blue T20 Indian Cricket Jersey   \n",
       "16357  2013.0  Sports               Nike Mean Team India Cricket Jersey   \n",
       "9208   2010.0  Casual                      Puma Deck Navy Blue Backpack   \n",
       "33222  2010.0  Sports                       Puma Big Cat Backpack Black   \n",
       "\n",
       "                                               tokenized  \n",
       "12904  ['nike', 'sahara', 'team', 'india', 'fanwear',...  \n",
       "12627  ['nike', 'men', 'blue', 'indian', 'cricket', '...  \n",
       "16357  ['nike', 'mean', 'team', 'india', 'cricket', '...  \n",
       "9208        ['puma', 'deck', 'navy', 'blue', 'backpack']  \n",
       "33222        ['puma', 'big', 'cat', 'backpack', 'black']  "
      ]
     },
     "execution_count": 42,
     "metadata": {},
     "output_type": "execute_result"
    }
   ],
   "source": [
    "df.head()"
   ]
  },
  {
   "cell_type": "code",
   "execution_count": 43,
   "metadata": {},
   "outputs": [
    {
     "data": {
      "text/plain": [
       "44446"
      ]
     },
     "execution_count": 43,
     "metadata": {},
     "output_type": "execute_result"
    }
   ],
   "source": [
    "len(df)"
   ]
  },
  {
   "cell_type": "code",
   "execution_count": 44,
   "metadata": {},
   "outputs": [],
   "source": [
    "image_names = os.listdir(\"data/images\")"
   ]
  },
  {
   "cell_type": "code",
   "execution_count": 45,
   "metadata": {},
   "outputs": [
    {
     "data": {
      "text/plain": [
       "44441"
      ]
     },
     "execution_count": 45,
     "metadata": {},
     "output_type": "execute_result"
    }
   ],
   "source": [
    "len(image_names)"
   ]
  },
  {
   "cell_type": "markdown",
   "metadata": {},
   "source": [
    "### Remove Data That Doesn't Have Image"
   ]
  },
  {
   "cell_type": "code",
   "execution_count": 46,
   "metadata": {},
   "outputs": [],
   "source": [
    "id_name_dict = {}\n",
    "\n",
    "for image_name in image_names:\n",
    "    id_name_dict[image_name.split('.')[0]] = image_name"
   ]
  },
  {
   "cell_type": "code",
   "execution_count": 47,
   "metadata": {},
   "outputs": [],
   "source": [
    "ids_with_image = list(id_name_dict.keys())"
   ]
  },
  {
   "cell_type": "code",
   "execution_count": 48,
   "metadata": {},
   "outputs": [],
   "source": [
    "df = df[df.id.isin(ids_with_image)]"
   ]
  },
  {
   "cell_type": "code",
   "execution_count": 49,
   "metadata": {},
   "outputs": [
    {
     "data": {
      "text/plain": [
       "44441"
      ]
     },
     "execution_count": 49,
     "metadata": {},
     "output_type": "execute_result"
    }
   ],
   "source": [
    "len(df)"
   ]
  },
  {
   "cell_type": "code",
   "execution_count": 50,
   "metadata": {},
   "outputs": [],
   "source": [
    "file_names = []\n",
    "for file_id in df['id']:\n",
    "    file_names.append(id_name_dict[str(file_id)])"
   ]
  },
  {
   "cell_type": "markdown",
   "metadata": {},
   "source": [
    "### Save"
   ]
  },
  {
   "cell_type": "code",
   "execution_count": 51,
   "metadata": {},
   "outputs": [],
   "source": [
    "df['file_name'] = file_names"
   ]
  },
  {
   "cell_type": "code",
   "execution_count": 52,
   "metadata": {},
   "outputs": [
    {
     "data": {
      "text/html": [
       "<div>\n",
       "<style scoped>\n",
       "    .dataframe tbody tr th:only-of-type {\n",
       "        vertical-align: middle;\n",
       "    }\n",
       "\n",
       "    .dataframe tbody tr th {\n",
       "        vertical-align: top;\n",
       "    }\n",
       "\n",
       "    .dataframe thead th {\n",
       "        text-align: right;\n",
       "    }\n",
       "</style>\n",
       "<table border=\"1\" class=\"dataframe\">\n",
       "  <thead>\n",
       "    <tr style=\"text-align: right;\">\n",
       "      <th></th>\n",
       "      <th>id</th>\n",
       "      <th>gender</th>\n",
       "      <th>masterCategory</th>\n",
       "      <th>subCategory</th>\n",
       "      <th>articleType</th>\n",
       "      <th>baseColour</th>\n",
       "      <th>season</th>\n",
       "      <th>year</th>\n",
       "      <th>usage</th>\n",
       "      <th>title</th>\n",
       "      <th>tokenized</th>\n",
       "      <th>file_name</th>\n",
       "    </tr>\n",
       "  </thead>\n",
       "  <tbody>\n",
       "    <tr>\n",
       "      <th>12904</th>\n",
       "      <td>1163</td>\n",
       "      <td>Men</td>\n",
       "      <td>Apparel</td>\n",
       "      <td>Topwear</td>\n",
       "      <td>Tshirts</td>\n",
       "      <td>Blue</td>\n",
       "      <td>Summer</td>\n",
       "      <td>2011.0</td>\n",
       "      <td>Sports</td>\n",
       "      <td>Nike Sahara Team India Fanwear Round Neck Jersey</td>\n",
       "      <td>['nike', 'sahara', 'team', 'india', 'fanwear',...</td>\n",
       "      <td>1163.jpg</td>\n",
       "    </tr>\n",
       "    <tr>\n",
       "      <th>12627</th>\n",
       "      <td>1164</td>\n",
       "      <td>Men</td>\n",
       "      <td>Apparel</td>\n",
       "      <td>Topwear</td>\n",
       "      <td>Tshirts</td>\n",
       "      <td>Blue</td>\n",
       "      <td>Winter</td>\n",
       "      <td>2015.0</td>\n",
       "      <td>Sports</td>\n",
       "      <td>Nike Men Blue T20 Indian Cricket Jersey</td>\n",
       "      <td>['nike', 'men', 'blue', 'indian', 'cricket', '...</td>\n",
       "      <td>1164.jpg</td>\n",
       "    </tr>\n",
       "    <tr>\n",
       "      <th>16357</th>\n",
       "      <td>1165</td>\n",
       "      <td>Men</td>\n",
       "      <td>Apparel</td>\n",
       "      <td>Topwear</td>\n",
       "      <td>Tshirts</td>\n",
       "      <td>Blue</td>\n",
       "      <td>Summer</td>\n",
       "      <td>2013.0</td>\n",
       "      <td>Sports</td>\n",
       "      <td>Nike Mean Team India Cricket Jersey</td>\n",
       "      <td>['nike', 'mean', 'team', 'india', 'cricket', '...</td>\n",
       "      <td>1165.jpg</td>\n",
       "    </tr>\n",
       "    <tr>\n",
       "      <th>9208</th>\n",
       "      <td>1525</td>\n",
       "      <td>Unisex</td>\n",
       "      <td>Accessories</td>\n",
       "      <td>Bags</td>\n",
       "      <td>Backpacks</td>\n",
       "      <td>Navy Blue</td>\n",
       "      <td>Fall</td>\n",
       "      <td>2010.0</td>\n",
       "      <td>Casual</td>\n",
       "      <td>Puma Deck Navy Blue Backpack</td>\n",
       "      <td>['puma', 'deck', 'navy', 'blue', 'backpack']</td>\n",
       "      <td>1525.jpg</td>\n",
       "    </tr>\n",
       "    <tr>\n",
       "      <th>33222</th>\n",
       "      <td>1526</td>\n",
       "      <td>Unisex</td>\n",
       "      <td>Accessories</td>\n",
       "      <td>Bags</td>\n",
       "      <td>Backpacks</td>\n",
       "      <td>Black</td>\n",
       "      <td>Fall</td>\n",
       "      <td>2010.0</td>\n",
       "      <td>Sports</td>\n",
       "      <td>Puma Big Cat Backpack Black</td>\n",
       "      <td>['puma', 'big', 'cat', 'backpack', 'black']</td>\n",
       "      <td>1526.jpg</td>\n",
       "    </tr>\n",
       "  </tbody>\n",
       "</table>\n",
       "</div>"
      ],
      "text/plain": [
       "         id  gender masterCategory subCategory articleType baseColour  season  \\\n",
       "12904  1163     Men        Apparel     Topwear     Tshirts       Blue  Summer   \n",
       "12627  1164     Men        Apparel     Topwear     Tshirts       Blue  Winter   \n",
       "16357  1165     Men        Apparel     Topwear     Tshirts       Blue  Summer   \n",
       "9208   1525  Unisex    Accessories        Bags   Backpacks  Navy Blue    Fall   \n",
       "33222  1526  Unisex    Accessories        Bags   Backpacks      Black    Fall   \n",
       "\n",
       "         year   usage                                             title  \\\n",
       "12904  2011.0  Sports  Nike Sahara Team India Fanwear Round Neck Jersey   \n",
       "12627  2015.0  Sports           Nike Men Blue T20 Indian Cricket Jersey   \n",
       "16357  2013.0  Sports               Nike Mean Team India Cricket Jersey   \n",
       "9208   2010.0  Casual                      Puma Deck Navy Blue Backpack   \n",
       "33222  2010.0  Sports                       Puma Big Cat Backpack Black   \n",
       "\n",
       "                                               tokenized file_name  \n",
       "12904  ['nike', 'sahara', 'team', 'india', 'fanwear',...  1163.jpg  \n",
       "12627  ['nike', 'men', 'blue', 'indian', 'cricket', '...  1164.jpg  \n",
       "16357  ['nike', 'mean', 'team', 'india', 'cricket', '...  1165.jpg  \n",
       "9208        ['puma', 'deck', 'navy', 'blue', 'backpack']  1525.jpg  \n",
       "33222        ['puma', 'big', 'cat', 'backpack', 'black']  1526.jpg  "
      ]
     },
     "execution_count": 52,
     "metadata": {},
     "output_type": "execute_result"
    }
   ],
   "source": [
    "df.head()"
   ]
  },
  {
   "cell_type": "code",
   "execution_count": 53,
   "metadata": {},
   "outputs": [],
   "source": [
    "df.to_csv('data/styles_with_token.csv', index=False)"
   ]
  },
  {
   "cell_type": "markdown",
   "metadata": {},
   "source": [
    "## Check for Invalid Image"
   ]
  },
  {
   "cell_type": "code",
   "execution_count": 73,
   "metadata": {},
   "outputs": [
    {
     "name": "stderr",
     "output_type": "stream",
     "text": [
      "/opt/conda/lib/python3.7/site-packages/tqdm/std.py:666: FutureWarning: The Panel class is removed from pandas. Accessing it from the top-level namespace will also be removed in the next version\n",
      "  from pandas import Panel\n"
     ]
    }
   ],
   "source": [
    "import os\n",
    "\n",
    "import pandas as pd\n",
    "from tqdm.autonotebook import tqdm\n",
    "tqdm.pandas()\n",
    "\n",
    "from PIL import Image"
   ]
  },
  {
   "cell_type": "code",
   "execution_count": 74,
   "metadata": {},
   "outputs": [],
   "source": [
    "df = pd.read_csv(\"data/styles_with_token.csv\")"
   ]
  },
  {
   "cell_type": "code",
   "execution_count": 75,
   "metadata": {},
   "outputs": [
    {
     "data": {
      "text/html": [
       "<div>\n",
       "<style scoped>\n",
       "    .dataframe tbody tr th:only-of-type {\n",
       "        vertical-align: middle;\n",
       "    }\n",
       "\n",
       "    .dataframe tbody tr th {\n",
       "        vertical-align: top;\n",
       "    }\n",
       "\n",
       "    .dataframe thead th {\n",
       "        text-align: right;\n",
       "    }\n",
       "</style>\n",
       "<table border=\"1\" class=\"dataframe\">\n",
       "  <thead>\n",
       "    <tr style=\"text-align: right;\">\n",
       "      <th></th>\n",
       "      <th>id</th>\n",
       "      <th>gender</th>\n",
       "      <th>masterCategory</th>\n",
       "      <th>subCategory</th>\n",
       "      <th>articleType</th>\n",
       "      <th>baseColour</th>\n",
       "      <th>season</th>\n",
       "      <th>year</th>\n",
       "      <th>usage</th>\n",
       "      <th>title</th>\n",
       "      <th>tokenized</th>\n",
       "      <th>file_name</th>\n",
       "    </tr>\n",
       "  </thead>\n",
       "  <tbody>\n",
       "    <tr>\n",
       "      <th>0</th>\n",
       "      <td>1163</td>\n",
       "      <td>Men</td>\n",
       "      <td>Apparel</td>\n",
       "      <td>Topwear</td>\n",
       "      <td>Tshirts</td>\n",
       "      <td>Blue</td>\n",
       "      <td>Summer</td>\n",
       "      <td>2011.0</td>\n",
       "      <td>Sports</td>\n",
       "      <td>Nike Sahara Team India Fanwear Round Neck Jersey</td>\n",
       "      <td>['nike', 'sahara', 'team', 'india', 'fanwear',...</td>\n",
       "      <td>1163.jpg</td>\n",
       "    </tr>\n",
       "    <tr>\n",
       "      <th>1</th>\n",
       "      <td>1164</td>\n",
       "      <td>Men</td>\n",
       "      <td>Apparel</td>\n",
       "      <td>Topwear</td>\n",
       "      <td>Tshirts</td>\n",
       "      <td>Blue</td>\n",
       "      <td>Winter</td>\n",
       "      <td>2015.0</td>\n",
       "      <td>Sports</td>\n",
       "      <td>Nike Men Blue T20 Indian Cricket Jersey</td>\n",
       "      <td>['nike', 'men', 'blue', 'indian', 'cricket', '...</td>\n",
       "      <td>1164.jpg</td>\n",
       "    </tr>\n",
       "    <tr>\n",
       "      <th>2</th>\n",
       "      <td>1165</td>\n",
       "      <td>Men</td>\n",
       "      <td>Apparel</td>\n",
       "      <td>Topwear</td>\n",
       "      <td>Tshirts</td>\n",
       "      <td>Blue</td>\n",
       "      <td>Summer</td>\n",
       "      <td>2013.0</td>\n",
       "      <td>Sports</td>\n",
       "      <td>Nike Mean Team India Cricket Jersey</td>\n",
       "      <td>['nike', 'mean', 'team', 'india', 'cricket', '...</td>\n",
       "      <td>1165.jpg</td>\n",
       "    </tr>\n",
       "    <tr>\n",
       "      <th>3</th>\n",
       "      <td>1525</td>\n",
       "      <td>Unisex</td>\n",
       "      <td>Accessories</td>\n",
       "      <td>Bags</td>\n",
       "      <td>Backpacks</td>\n",
       "      <td>Navy Blue</td>\n",
       "      <td>Fall</td>\n",
       "      <td>2010.0</td>\n",
       "      <td>Casual</td>\n",
       "      <td>Puma Deck Navy Blue Backpack</td>\n",
       "      <td>['puma', 'deck', 'navy', 'blue', 'backpack']</td>\n",
       "      <td>1525.jpg</td>\n",
       "    </tr>\n",
       "    <tr>\n",
       "      <th>4</th>\n",
       "      <td>1526</td>\n",
       "      <td>Unisex</td>\n",
       "      <td>Accessories</td>\n",
       "      <td>Bags</td>\n",
       "      <td>Backpacks</td>\n",
       "      <td>Black</td>\n",
       "      <td>Fall</td>\n",
       "      <td>2010.0</td>\n",
       "      <td>Sports</td>\n",
       "      <td>Puma Big Cat Backpack Black</td>\n",
       "      <td>['puma', 'big', 'cat', 'backpack', 'black']</td>\n",
       "      <td>1526.jpg</td>\n",
       "    </tr>\n",
       "  </tbody>\n",
       "</table>\n",
       "</div>"
      ],
      "text/plain": [
       "     id  gender masterCategory subCategory articleType baseColour  season  \\\n",
       "0  1163     Men        Apparel     Topwear     Tshirts       Blue  Summer   \n",
       "1  1164     Men        Apparel     Topwear     Tshirts       Blue  Winter   \n",
       "2  1165     Men        Apparel     Topwear     Tshirts       Blue  Summer   \n",
       "3  1525  Unisex    Accessories        Bags   Backpacks  Navy Blue    Fall   \n",
       "4  1526  Unisex    Accessories        Bags   Backpacks      Black    Fall   \n",
       "\n",
       "     year   usage                                             title  \\\n",
       "0  2011.0  Sports  Nike Sahara Team India Fanwear Round Neck Jersey   \n",
       "1  2015.0  Sports           Nike Men Blue T20 Indian Cricket Jersey   \n",
       "2  2013.0  Sports               Nike Mean Team India Cricket Jersey   \n",
       "3  2010.0  Casual                      Puma Deck Navy Blue Backpack   \n",
       "4  2010.0  Sports                       Puma Big Cat Backpack Black   \n",
       "\n",
       "                                           tokenized file_name  \n",
       "0  ['nike', 'sahara', 'team', 'india', 'fanwear',...  1163.jpg  \n",
       "1  ['nike', 'men', 'blue', 'indian', 'cricket', '...  1164.jpg  \n",
       "2  ['nike', 'mean', 'team', 'india', 'cricket', '...  1165.jpg  \n",
       "3       ['puma', 'deck', 'navy', 'blue', 'backpack']  1525.jpg  \n",
       "4        ['puma', 'big', 'cat', 'backpack', 'black']  1526.jpg  "
      ]
     },
     "execution_count": 75,
     "metadata": {},
     "output_type": "execute_result"
    }
   ],
   "source": [
    "df.head()"
   ]
  },
  {
   "cell_type": "code",
   "execution_count": 80,
   "metadata": {},
   "outputs": [],
   "source": [
    "file_names = df['file_name'].values"
   ]
  },
  {
   "cell_type": "code",
   "execution_count": 81,
   "metadata": {},
   "outputs": [],
   "source": [
    "file_names = [\"data/images/\" + file_name for file_name in file_names]"
   ]
  },
  {
   "cell_type": "code",
   "execution_count": 85,
   "metadata": {},
   "outputs": [
    {
     "name": "stdout",
     "output_type": "stream",
     "text": [
      "(60, 60)\n",
      "(60, 60)\n",
      "(60, 60)\n",
      "(60, 60)\n",
      "(60, 60)\n",
      "(60, 77)\n",
      "(60, 77)\n",
      "(60, 76)\n",
      "(53, 80)\n",
      "(53, 80)\n",
      "(53, 80)\n",
      "(53, 80)\n",
      "(53, 80)\n",
      "(53, 80)\n",
      "(60, 75)\n",
      "(53, 80)\n",
      "(53, 80)\n",
      "(53, 80)\n",
      "(60, 79)\n",
      "(53, 80)\n",
      "(60, 79)\n",
      "(54, 80)\n",
      "(54, 80)\n"
     ]
    }
   ],
   "source": [
    "for file_name in file_names:\n",
    "    img = Image.open(file_name)\n",
    "    if img.size != (60, 80):\n",
    "        print(img.size)\n",
    "    del img"
   ]
  },
  {
   "cell_type": "markdown",
   "metadata": {},
   "source": [
    "### Save"
   ]
  },
  {
   "cell_type": "code",
   "execution_count": 14,
   "metadata": {},
   "outputs": [],
   "source": [
    "df['file_name'] = file_names"
   ]
  },
  {
   "cell_type": "code",
   "execution_count": 15,
   "metadata": {},
   "outputs": [
    {
     "data": {
      "text/html": [
       "<div>\n",
       "<style scoped>\n",
       "    .dataframe tbody tr th:only-of-type {\n",
       "        vertical-align: middle;\n",
       "    }\n",
       "\n",
       "    .dataframe tbody tr th {\n",
       "        vertical-align: top;\n",
       "    }\n",
       "\n",
       "    .dataframe thead th {\n",
       "        text-align: right;\n",
       "    }\n",
       "</style>\n",
       "<table border=\"1\" class=\"dataframe\">\n",
       "  <thead>\n",
       "    <tr style=\"text-align: right;\">\n",
       "      <th></th>\n",
       "      <th>file_id</th>\n",
       "      <th>title</th>\n",
       "      <th>img_url</th>\n",
       "      <th>category</th>\n",
       "      <th>gender</th>\n",
       "      <th>done</th>\n",
       "      <th>tokenized</th>\n",
       "      <th>file_name</th>\n",
       "    </tr>\n",
       "  </thead>\n",
       "  <tbody>\n",
       "    <tr>\n",
       "      <th>0</th>\n",
       "      <td>50000</td>\n",
       "      <td>baju tidur pria piyama satin</td>\n",
       "      <td>https://s1.bukalapak.com/img/18182389021/s-194...</td>\n",
       "      <td>piyama-baju-tidur-2657</td>\n",
       "      <td>M</td>\n",
       "      <td>True</td>\n",
       "      <td>['baju', 'tidur', 'pria', 'piyama', 'satin']</td>\n",
       "      <td>50000.png</td>\n",
       "    </tr>\n",
       "    <tr>\n",
       "      <th>1</th>\n",
       "      <td>50001</td>\n",
       "      <td>baju tidur import piyama pp pria</td>\n",
       "      <td>https://s1.bukalapak.com/img/65651610211/s-194...</td>\n",
       "      <td>piyama-baju-tidur-2657</td>\n",
       "      <td>M</td>\n",
       "      <td>True</td>\n",
       "      <td>['baju', 'tidur', 'piyama', 'pp', 'pria']</td>\n",
       "      <td>50001.png</td>\n",
       "    </tr>\n",
       "    <tr>\n",
       "      <th>2</th>\n",
       "      <td>50002</td>\n",
       "      <td>stelan baju tidur pria piyama import</td>\n",
       "      <td>https://s0.bukalapak.com/img/55768558031/s-194...</td>\n",
       "      <td>piyama-baju-tidur-2657</td>\n",
       "      <td>M</td>\n",
       "      <td>True</td>\n",
       "      <td>['stelan', 'baju', 'tidur', 'pria', 'piyama']</td>\n",
       "      <td>50002.png</td>\n",
       "    </tr>\n",
       "    <tr>\n",
       "      <th>3</th>\n",
       "      <td>50003</td>\n",
       "      <td>premium quality baju tidur pria piyama salur</td>\n",
       "      <td>https://s1.bukalapak.com/img/17182586211/s-194...</td>\n",
       "      <td>piyama-baju-tidur-2657</td>\n",
       "      <td>M</td>\n",
       "      <td>True</td>\n",
       "      <td>['premium', 'quality', 'baju', 'tidur', 'pria'...</td>\n",
       "      <td>50003.png</td>\n",
       "    </tr>\n",
       "    <tr>\n",
       "      <th>4</th>\n",
       "      <td>50004</td>\n",
       "      <td>baju tidur import salur piyama pria</td>\n",
       "      <td>https://s1.bukalapak.com/img/62718914511/s-194...</td>\n",
       "      <td>piyama-baju-tidur-2657</td>\n",
       "      <td>M</td>\n",
       "      <td>True</td>\n",
       "      <td>['baju', 'tidur', 'salur', 'piyama', 'pria']</td>\n",
       "      <td>50004.png</td>\n",
       "    </tr>\n",
       "  </tbody>\n",
       "</table>\n",
       "</div>"
      ],
      "text/plain": [
       "   file_id                                         title  \\\n",
       "0    50000                  baju tidur pria piyama satin   \n",
       "1    50001             baju tidur import piyama pp pria    \n",
       "2    50002          stelan baju tidur pria piyama import   \n",
       "3    50003  premium quality baju tidur pria piyama salur   \n",
       "4    50004          baju tidur import salur piyama pria    \n",
       "\n",
       "                                             img_url                category  \\\n",
       "0  https://s1.bukalapak.com/img/18182389021/s-194...  piyama-baju-tidur-2657   \n",
       "1  https://s1.bukalapak.com/img/65651610211/s-194...  piyama-baju-tidur-2657   \n",
       "2  https://s0.bukalapak.com/img/55768558031/s-194...  piyama-baju-tidur-2657   \n",
       "3  https://s1.bukalapak.com/img/17182586211/s-194...  piyama-baju-tidur-2657   \n",
       "4  https://s1.bukalapak.com/img/62718914511/s-194...  piyama-baju-tidur-2657   \n",
       "\n",
       "  gender  done                                          tokenized  file_name  \n",
       "0      M  True       ['baju', 'tidur', 'pria', 'piyama', 'satin']  50000.png  \n",
       "1      M  True          ['baju', 'tidur', 'piyama', 'pp', 'pria']  50001.png  \n",
       "2      M  True      ['stelan', 'baju', 'tidur', 'pria', 'piyama']  50002.png  \n",
       "3      M  True  ['premium', 'quality', 'baju', 'tidur', 'pria'...  50003.png  \n",
       "4      M  True       ['baju', 'tidur', 'salur', 'piyama', 'pria']  50004.png  "
      ]
     },
     "execution_count": 15,
     "metadata": {},
     "output_type": "execute_result"
    }
   ],
   "source": [
    "df.head()"
   ]
  },
  {
   "cell_type": "code",
   "execution_count": 16,
   "metadata": {},
   "outputs": [],
   "source": [
    "df.to_csv('../data/product_preprocessed.csv', index=False)"
   ]
  },
  {
   "cell_type": "markdown",
   "metadata": {},
   "source": [
    "## Add '\\<start\\>' and '\\<end\\>' to Token and Remove Unnecessary Columns"
   ]
  },
  {
   "cell_type": "code",
   "execution_count": 5,
   "metadata": {},
   "outputs": [],
   "source": [
    "import ast\n",
    "\n",
    "import pandas as pd"
   ]
  },
  {
   "cell_type": "code",
   "execution_count": 7,
   "metadata": {},
   "outputs": [],
   "source": [
    "start_token = '<start>'\n",
    "end_token = '<end>'"
   ]
  },
  {
   "cell_type": "code",
   "execution_count": 2,
   "metadata": {},
   "outputs": [],
   "source": [
    "df = pd.read_csv(\"data/styles_with_token.csv\")"
   ]
  },
  {
   "cell_type": "code",
   "execution_count": 3,
   "metadata": {},
   "outputs": [
    {
     "data": {
      "text/html": [
       "<div>\n",
       "<style scoped>\n",
       "    .dataframe tbody tr th:only-of-type {\n",
       "        vertical-align: middle;\n",
       "    }\n",
       "\n",
       "    .dataframe tbody tr th {\n",
       "        vertical-align: top;\n",
       "    }\n",
       "\n",
       "    .dataframe thead th {\n",
       "        text-align: right;\n",
       "    }\n",
       "</style>\n",
       "<table border=\"1\" class=\"dataframe\">\n",
       "  <thead>\n",
       "    <tr style=\"text-align: right;\">\n",
       "      <th></th>\n",
       "      <th>id</th>\n",
       "      <th>gender</th>\n",
       "      <th>masterCategory</th>\n",
       "      <th>subCategory</th>\n",
       "      <th>articleType</th>\n",
       "      <th>baseColour</th>\n",
       "      <th>season</th>\n",
       "      <th>year</th>\n",
       "      <th>usage</th>\n",
       "      <th>title</th>\n",
       "      <th>tokenized</th>\n",
       "      <th>file_name</th>\n",
       "    </tr>\n",
       "  </thead>\n",
       "  <tbody>\n",
       "    <tr>\n",
       "      <th>0</th>\n",
       "      <td>1163</td>\n",
       "      <td>Men</td>\n",
       "      <td>Apparel</td>\n",
       "      <td>Topwear</td>\n",
       "      <td>Tshirts</td>\n",
       "      <td>Blue</td>\n",
       "      <td>Summer</td>\n",
       "      <td>2011.0</td>\n",
       "      <td>Sports</td>\n",
       "      <td>Nike Sahara Team India Fanwear Round Neck Jersey</td>\n",
       "      <td>['nike', 'sahara', 'team', 'india', 'fanwear',...</td>\n",
       "      <td>1163.jpg</td>\n",
       "    </tr>\n",
       "    <tr>\n",
       "      <th>1</th>\n",
       "      <td>1164</td>\n",
       "      <td>Men</td>\n",
       "      <td>Apparel</td>\n",
       "      <td>Topwear</td>\n",
       "      <td>Tshirts</td>\n",
       "      <td>Blue</td>\n",
       "      <td>Winter</td>\n",
       "      <td>2015.0</td>\n",
       "      <td>Sports</td>\n",
       "      <td>Nike Men Blue T20 Indian Cricket Jersey</td>\n",
       "      <td>['nike', 'men', 'blue', 'indian', 'cricket', '...</td>\n",
       "      <td>1164.jpg</td>\n",
       "    </tr>\n",
       "    <tr>\n",
       "      <th>2</th>\n",
       "      <td>1165</td>\n",
       "      <td>Men</td>\n",
       "      <td>Apparel</td>\n",
       "      <td>Topwear</td>\n",
       "      <td>Tshirts</td>\n",
       "      <td>Blue</td>\n",
       "      <td>Summer</td>\n",
       "      <td>2013.0</td>\n",
       "      <td>Sports</td>\n",
       "      <td>Nike Mean Team India Cricket Jersey</td>\n",
       "      <td>['nike', 'mean', 'team', 'india', 'cricket', '...</td>\n",
       "      <td>1165.jpg</td>\n",
       "    </tr>\n",
       "    <tr>\n",
       "      <th>3</th>\n",
       "      <td>1525</td>\n",
       "      <td>Unisex</td>\n",
       "      <td>Accessories</td>\n",
       "      <td>Bags</td>\n",
       "      <td>Backpacks</td>\n",
       "      <td>Navy Blue</td>\n",
       "      <td>Fall</td>\n",
       "      <td>2010.0</td>\n",
       "      <td>Casual</td>\n",
       "      <td>Puma Deck Navy Blue Backpack</td>\n",
       "      <td>['puma', 'deck', 'navy', 'blue', 'backpack']</td>\n",
       "      <td>1525.jpg</td>\n",
       "    </tr>\n",
       "    <tr>\n",
       "      <th>4</th>\n",
       "      <td>1526</td>\n",
       "      <td>Unisex</td>\n",
       "      <td>Accessories</td>\n",
       "      <td>Bags</td>\n",
       "      <td>Backpacks</td>\n",
       "      <td>Black</td>\n",
       "      <td>Fall</td>\n",
       "      <td>2010.0</td>\n",
       "      <td>Sports</td>\n",
       "      <td>Puma Big Cat Backpack Black</td>\n",
       "      <td>['puma', 'big', 'cat', 'backpack', 'black']</td>\n",
       "      <td>1526.jpg</td>\n",
       "    </tr>\n",
       "  </tbody>\n",
       "</table>\n",
       "</div>"
      ],
      "text/plain": [
       "     id  gender masterCategory subCategory articleType baseColour  season  \\\n",
       "0  1163     Men        Apparel     Topwear     Tshirts       Blue  Summer   \n",
       "1  1164     Men        Apparel     Topwear     Tshirts       Blue  Winter   \n",
       "2  1165     Men        Apparel     Topwear     Tshirts       Blue  Summer   \n",
       "3  1525  Unisex    Accessories        Bags   Backpacks  Navy Blue    Fall   \n",
       "4  1526  Unisex    Accessories        Bags   Backpacks      Black    Fall   \n",
       "\n",
       "     year   usage                                             title  \\\n",
       "0  2011.0  Sports  Nike Sahara Team India Fanwear Round Neck Jersey   \n",
       "1  2015.0  Sports           Nike Men Blue T20 Indian Cricket Jersey   \n",
       "2  2013.0  Sports               Nike Mean Team India Cricket Jersey   \n",
       "3  2010.0  Casual                      Puma Deck Navy Blue Backpack   \n",
       "4  2010.0  Sports                       Puma Big Cat Backpack Black   \n",
       "\n",
       "                                           tokenized file_name  \n",
       "0  ['nike', 'sahara', 'team', 'india', 'fanwear',...  1163.jpg  \n",
       "1  ['nike', 'men', 'blue', 'indian', 'cricket', '...  1164.jpg  \n",
       "2  ['nike', 'mean', 'team', 'india', 'cricket', '...  1165.jpg  \n",
       "3       ['puma', 'deck', 'navy', 'blue', 'backpack']  1525.jpg  \n",
       "4        ['puma', 'big', 'cat', 'backpack', 'black']  1526.jpg  "
      ]
     },
     "execution_count": 3,
     "metadata": {},
     "output_type": "execute_result"
    }
   ],
   "source": [
    "df.head()"
   ]
  },
  {
   "cell_type": "code",
   "execution_count": 6,
   "metadata": {},
   "outputs": [],
   "source": [
    "# convert tokens from stringified list back to list\n",
    "df.tokenized = df.tokenized.apply(lambda tokens: ast.literal_eval(tokens))"
   ]
  },
  {
   "cell_type": "code",
   "execution_count": 8,
   "metadata": {},
   "outputs": [],
   "source": [
    "df.tokenized = df.tokenized.apply(lambda x: [start_token] + x + [end_token])"
   ]
  },
  {
   "cell_type": "code",
   "execution_count": 10,
   "metadata": {},
   "outputs": [
    {
     "data": {
      "text/plain": [
       "0    [<start>, nike, sahara, team, india, fanwear, ...\n",
       "1    [<start>, nike, men, blue, indian, cricket, je...\n",
       "2    [<start>, nike, mean, team, india, cricket, je...\n",
       "3    [<start>, puma, deck, navy, blue, backpack, <e...\n",
       "4    [<start>, puma, big, cat, backpack, black, <end>]\n",
       "Name: tokenized, dtype: object"
      ]
     },
     "execution_count": 10,
     "metadata": {},
     "output_type": "execute_result"
    }
   ],
   "source": [
    "df.tokenized.head()"
   ]
  },
  {
   "cell_type": "code",
   "execution_count": 19,
   "metadata": {},
   "outputs": [],
   "source": [
    "df = df.drop([\"gender\", \"season\", \"year\", \"usage\"], axis=1, errors='ignore')"
   ]
  },
  {
   "cell_type": "code",
   "execution_count": 20,
   "metadata": {},
   "outputs": [
    {
     "data": {
      "text/html": [
       "<div>\n",
       "<style scoped>\n",
       "    .dataframe tbody tr th:only-of-type {\n",
       "        vertical-align: middle;\n",
       "    }\n",
       "\n",
       "    .dataframe tbody tr th {\n",
       "        vertical-align: top;\n",
       "    }\n",
       "\n",
       "    .dataframe thead th {\n",
       "        text-align: right;\n",
       "    }\n",
       "</style>\n",
       "<table border=\"1\" class=\"dataframe\">\n",
       "  <thead>\n",
       "    <tr style=\"text-align: right;\">\n",
       "      <th></th>\n",
       "      <th>id</th>\n",
       "      <th>masterCategory</th>\n",
       "      <th>subCategory</th>\n",
       "      <th>articleType</th>\n",
       "      <th>baseColour</th>\n",
       "      <th>title</th>\n",
       "      <th>tokenized</th>\n",
       "      <th>file_name</th>\n",
       "    </tr>\n",
       "  </thead>\n",
       "  <tbody>\n",
       "    <tr>\n",
       "      <th>0</th>\n",
       "      <td>1163</td>\n",
       "      <td>Apparel</td>\n",
       "      <td>Topwear</td>\n",
       "      <td>Tshirts</td>\n",
       "      <td>Blue</td>\n",
       "      <td>Nike Sahara Team India Fanwear Round Neck Jersey</td>\n",
       "      <td>[&lt;start&gt;, nike, sahara, team, india, fanwear, ...</td>\n",
       "      <td>1163.jpg</td>\n",
       "    </tr>\n",
       "    <tr>\n",
       "      <th>1</th>\n",
       "      <td>1164</td>\n",
       "      <td>Apparel</td>\n",
       "      <td>Topwear</td>\n",
       "      <td>Tshirts</td>\n",
       "      <td>Blue</td>\n",
       "      <td>Nike Men Blue T20 Indian Cricket Jersey</td>\n",
       "      <td>[&lt;start&gt;, nike, men, blue, indian, cricket, je...</td>\n",
       "      <td>1164.jpg</td>\n",
       "    </tr>\n",
       "    <tr>\n",
       "      <th>2</th>\n",
       "      <td>1165</td>\n",
       "      <td>Apparel</td>\n",
       "      <td>Topwear</td>\n",
       "      <td>Tshirts</td>\n",
       "      <td>Blue</td>\n",
       "      <td>Nike Mean Team India Cricket Jersey</td>\n",
       "      <td>[&lt;start&gt;, nike, mean, team, india, cricket, je...</td>\n",
       "      <td>1165.jpg</td>\n",
       "    </tr>\n",
       "    <tr>\n",
       "      <th>3</th>\n",
       "      <td>1525</td>\n",
       "      <td>Accessories</td>\n",
       "      <td>Bags</td>\n",
       "      <td>Backpacks</td>\n",
       "      <td>Navy Blue</td>\n",
       "      <td>Puma Deck Navy Blue Backpack</td>\n",
       "      <td>[&lt;start&gt;, puma, deck, navy, blue, backpack, &lt;e...</td>\n",
       "      <td>1525.jpg</td>\n",
       "    </tr>\n",
       "    <tr>\n",
       "      <th>4</th>\n",
       "      <td>1526</td>\n",
       "      <td>Accessories</td>\n",
       "      <td>Bags</td>\n",
       "      <td>Backpacks</td>\n",
       "      <td>Black</td>\n",
       "      <td>Puma Big Cat Backpack Black</td>\n",
       "      <td>[&lt;start&gt;, puma, big, cat, backpack, black, &lt;end&gt;]</td>\n",
       "      <td>1526.jpg</td>\n",
       "    </tr>\n",
       "  </tbody>\n",
       "</table>\n",
       "</div>"
      ],
      "text/plain": [
       "     id masterCategory subCategory articleType baseColour  \\\n",
       "0  1163        Apparel     Topwear     Tshirts       Blue   \n",
       "1  1164        Apparel     Topwear     Tshirts       Blue   \n",
       "2  1165        Apparel     Topwear     Tshirts       Blue   \n",
       "3  1525    Accessories        Bags   Backpacks  Navy Blue   \n",
       "4  1526    Accessories        Bags   Backpacks      Black   \n",
       "\n",
       "                                              title  \\\n",
       "0  Nike Sahara Team India Fanwear Round Neck Jersey   \n",
       "1           Nike Men Blue T20 Indian Cricket Jersey   \n",
       "2               Nike Mean Team India Cricket Jersey   \n",
       "3                      Puma Deck Navy Blue Backpack   \n",
       "4                       Puma Big Cat Backpack Black   \n",
       "\n",
       "                                           tokenized file_name  \n",
       "0  [<start>, nike, sahara, team, india, fanwear, ...  1163.jpg  \n",
       "1  [<start>, nike, men, blue, indian, cricket, je...  1164.jpg  \n",
       "2  [<start>, nike, mean, team, india, cricket, je...  1165.jpg  \n",
       "3  [<start>, puma, deck, navy, blue, backpack, <e...  1525.jpg  \n",
       "4  [<start>, puma, big, cat, backpack, black, <end>]  1526.jpg  "
      ]
     },
     "execution_count": 20,
     "metadata": {},
     "output_type": "execute_result"
    }
   ],
   "source": [
    "df.head()"
   ]
  },
  {
   "cell_type": "code",
   "execution_count": 21,
   "metadata": {},
   "outputs": [],
   "source": [
    "df.to_csv('data/styles_with_token.csv', index=False)"
   ]
  }
 ],
 "metadata": {
  "environment": {
   "name": "pytorch-gpu.1-4.m46",
   "type": "gcloud",
   "uri": "gcr.io/deeplearning-platform-release/pytorch-gpu.1-4:m46"
  },
  "kernelspec": {
   "display_name": "Python 3",
   "language": "python",
   "name": "python3"
  },
  "language_info": {
   "codemirror_mode": {
    "name": "ipython",
    "version": 3
   },
   "file_extension": ".py",
   "mimetype": "text/x-python",
   "name": "python",
   "nbconvert_exporter": "python",
   "pygments_lexer": "ipython3",
   "version": "3.7.6"
  }
 },
 "nbformat": 4,
 "nbformat_minor": 4
}
