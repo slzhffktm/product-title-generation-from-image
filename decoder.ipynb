{
 "cells": [
  {
   "cell_type": "code",
   "execution_count": 1,
   "metadata": {},
   "outputs": [
    {
     "name": "stderr",
     "output_type": "stream",
     "text": [
      "/opt/conda/lib/python3.7/site-packages/tqdm/std.py:666: FutureWarning: The Panel class is removed from pandas. Accessing it from the top-level namespace will also be removed in the next version\n",
      "  from pandas import Panel\n"
     ]
    }
   ],
   "source": [
    "import math\n",
    "import ast\n",
    "import heapq\n",
    "from copy import deepcopy\n",
    "from math import log\n",
    "import random\n",
    "import os\n",
    "import copy\n",
    "import time\n",
    "\n",
    "import torch\n",
    "from torch import nn, optim\n",
    "from torch.utils.data import Dataset, DataLoader\n",
    "from torch.nn.utils.rnn import pack_padded_sequence\n",
    "import torch.nn.functional as F\n",
    "from torch.optim.lr_scheduler import ReduceLROnPlateau\n",
    "import torchvision\n",
    "from torchvision import transforms\n",
    "from torchsummary import summary\n",
    "import pkbar\n",
    "\n",
    "from PIL import Image\n",
    "\n",
    "import numpy as np\n",
    "import pandas as pd\n",
    "from tqdm.autonotebook import tqdm\n",
    "tqdm.pandas()\n",
    "\n",
    "from sklearn.preprocessing import MultiLabelBinarizer\n",
    "from skimage import io\n",
    "from sklearn.metrics import hamming_loss, accuracy_score\n",
    "from sklearn.model_selection import train_test_split\n",
    "\n",
    "from nltk.translate.bleu_score import sentence_bleu\n",
    "from nltk import FreqDist\n",
    "\n",
    "import matplotlib.pyplot as plt\n",
    "plt.ion()   # interactive mode"
   ]
  },
  {
   "cell_type": "code",
   "execution_count": 2,
   "metadata": {},
   "outputs": [
    {
     "name": "stdout",
     "output_type": "stream",
     "text": [
      "Using CUDA\n"
     ]
    }
   ],
   "source": [
    "if torch.cuda.is_available():\n",
    "    print(\"Using CUDA\")\n",
    "    device = torch.device(\"cuda\")\n",
    "else:\n",
    "    print(\"Using CPU\")\n",
    "    device = torch.device(\"cpu\")"
   ]
  },
  {
   "cell_type": "code",
   "execution_count": 3,
   "metadata": {},
   "outputs": [],
   "source": [
    "start_token = '<start>'\n",
    "end_token = '<end>'\n",
    "unknown_token = '<unk>'\n",
    "padding_token = '<pad>'"
   ]
  },
  {
   "cell_type": "markdown",
   "metadata": {},
   "source": [
    "## Prepare Data"
   ]
  },
  {
   "cell_type": "markdown",
   "metadata": {},
   "source": [
    "### Products"
   ]
  },
  {
   "cell_type": "code",
   "execution_count": 4,
   "metadata": {},
   "outputs": [],
   "source": [
    "df = pd.read_csv(\"data/styles_tags_pred.csv\")"
   ]
  },
  {
   "cell_type": "code",
   "execution_count": 5,
   "metadata": {},
   "outputs": [
    {
     "data": {
      "text/html": [
       "<div>\n",
       "<style scoped>\n",
       "    .dataframe tbody tr th:only-of-type {\n",
       "        vertical-align: middle;\n",
       "    }\n",
       "\n",
       "    .dataframe tbody tr th {\n",
       "        vertical-align: top;\n",
       "    }\n",
       "\n",
       "    .dataframe thead th {\n",
       "        text-align: right;\n",
       "    }\n",
       "</style>\n",
       "<table border=\"1\" class=\"dataframe\">\n",
       "  <thead>\n",
       "    <tr style=\"text-align: right;\">\n",
       "      <th></th>\n",
       "      <th>id</th>\n",
       "      <th>masterCategory</th>\n",
       "      <th>subCategory</th>\n",
       "      <th>articleType</th>\n",
       "      <th>baseColour</th>\n",
       "      <th>title</th>\n",
       "      <th>tokenized</th>\n",
       "      <th>file_name</th>\n",
       "      <th>tags</th>\n",
       "      <th>tags_pred</th>\n",
       "    </tr>\n",
       "  </thead>\n",
       "  <tbody>\n",
       "    <tr>\n",
       "      <th>0</th>\n",
       "      <td>1163</td>\n",
       "      <td>Apparel</td>\n",
       "      <td>Topwear</td>\n",
       "      <td>Tshirts</td>\n",
       "      <td>Blue</td>\n",
       "      <td>Nike Sahara Team India Fanwear Round Neck Jersey</td>\n",
       "      <td>['&lt;start&gt;', 'nike', 'sahara', 'team', 'india',...</td>\n",
       "      <td>1163.jpg</td>\n",
       "      <td>['nike', 'team', 'india', 'round', 'neck', 'je...</td>\n",
       "      <td>[2.3143535e-07, 2.3702476e-09, 2.986898e-07, 3...</td>\n",
       "    </tr>\n",
       "    <tr>\n",
       "      <th>1</th>\n",
       "      <td>1164</td>\n",
       "      <td>Apparel</td>\n",
       "      <td>Topwear</td>\n",
       "      <td>Tshirts</td>\n",
       "      <td>Blue</td>\n",
       "      <td>Nike Men Blue T20 Indian Cricket Jersey</td>\n",
       "      <td>['&lt;start&gt;', 'nike', 'men', 'blue', 'indian', '...</td>\n",
       "      <td>1164.jpg</td>\n",
       "      <td>['nike', 'men', 'blue', 'indian', 'cricket', '...</td>\n",
       "      <td>[2.2555818e-07, 1.8278894e-09, 7.16435e-09, 3....</td>\n",
       "    </tr>\n",
       "    <tr>\n",
       "      <th>2</th>\n",
       "      <td>1165</td>\n",
       "      <td>Apparel</td>\n",
       "      <td>Topwear</td>\n",
       "      <td>Tshirts</td>\n",
       "      <td>Blue</td>\n",
       "      <td>Nike Mean Team India Cricket Jersey</td>\n",
       "      <td>['&lt;start&gt;', 'nike', 'mean', 'team', 'india', '...</td>\n",
       "      <td>1165.jpg</td>\n",
       "      <td>['nike', 'team', 'india', 'cricket', 'jersey']</td>\n",
       "      <td>[0.00035982736, 2.8710444e-06, 5.1504063e-05, ...</td>\n",
       "    </tr>\n",
       "    <tr>\n",
       "      <th>3</th>\n",
       "      <td>1525</td>\n",
       "      <td>Accessories</td>\n",
       "      <td>Bags</td>\n",
       "      <td>Backpacks</td>\n",
       "      <td>Navy Blue</td>\n",
       "      <td>Puma Deck Navy Blue Backpack</td>\n",
       "      <td>['&lt;start&gt;', 'puma', 'deck', 'navy', 'blue', 'b...</td>\n",
       "      <td>1525.jpg</td>\n",
       "      <td>['puma', 'navy', 'blue', 'backpack']</td>\n",
       "      <td>[1.9060193e-05, 8.293974e-09, 9.6082715e-08, 2...</td>\n",
       "    </tr>\n",
       "    <tr>\n",
       "      <th>4</th>\n",
       "      <td>1526</td>\n",
       "      <td>Accessories</td>\n",
       "      <td>Bags</td>\n",
       "      <td>Backpacks</td>\n",
       "      <td>Black</td>\n",
       "      <td>Puma Big Cat Backpack Black</td>\n",
       "      <td>['&lt;start&gt;', 'puma', 'big', 'cat', 'backpack', ...</td>\n",
       "      <td>1526.jpg</td>\n",
       "      <td>['puma', 'big', 'cat', 'backpack', 'black']</td>\n",
       "      <td>[0.0015358106, 1.2226741e-07, 7.6661183e-07, 9...</td>\n",
       "    </tr>\n",
       "  </tbody>\n",
       "</table>\n",
       "</div>"
      ],
      "text/plain": [
       "     id masterCategory subCategory articleType baseColour  \\\n",
       "0  1163        Apparel     Topwear     Tshirts       Blue   \n",
       "1  1164        Apparel     Topwear     Tshirts       Blue   \n",
       "2  1165        Apparel     Topwear     Tshirts       Blue   \n",
       "3  1525    Accessories        Bags   Backpacks  Navy Blue   \n",
       "4  1526    Accessories        Bags   Backpacks      Black   \n",
       "\n",
       "                                              title  \\\n",
       "0  Nike Sahara Team India Fanwear Round Neck Jersey   \n",
       "1           Nike Men Blue T20 Indian Cricket Jersey   \n",
       "2               Nike Mean Team India Cricket Jersey   \n",
       "3                      Puma Deck Navy Blue Backpack   \n",
       "4                       Puma Big Cat Backpack Black   \n",
       "\n",
       "                                           tokenized file_name  \\\n",
       "0  ['<start>', 'nike', 'sahara', 'team', 'india',...  1163.jpg   \n",
       "1  ['<start>', 'nike', 'men', 'blue', 'indian', '...  1164.jpg   \n",
       "2  ['<start>', 'nike', 'mean', 'team', 'india', '...  1165.jpg   \n",
       "3  ['<start>', 'puma', 'deck', 'navy', 'blue', 'b...  1525.jpg   \n",
       "4  ['<start>', 'puma', 'big', 'cat', 'backpack', ...  1526.jpg   \n",
       "\n",
       "                                                tags  \\\n",
       "0  ['nike', 'team', 'india', 'round', 'neck', 'je...   \n",
       "1  ['nike', 'men', 'blue', 'indian', 'cricket', '...   \n",
       "2     ['nike', 'team', 'india', 'cricket', 'jersey']   \n",
       "3               ['puma', 'navy', 'blue', 'backpack']   \n",
       "4        ['puma', 'big', 'cat', 'backpack', 'black']   \n",
       "\n",
       "                                           tags_pred  \n",
       "0  [2.3143535e-07, 2.3702476e-09, 2.986898e-07, 3...  \n",
       "1  [2.2555818e-07, 1.8278894e-09, 7.16435e-09, 3....  \n",
       "2  [0.00035982736, 2.8710444e-06, 5.1504063e-05, ...  \n",
       "3  [1.9060193e-05, 8.293974e-09, 9.6082715e-08, 2...  \n",
       "4  [0.0015358106, 1.2226741e-07, 7.6661183e-07, 9...  "
      ]
     },
     "execution_count": 5,
     "metadata": {},
     "output_type": "execute_result"
    }
   ],
   "source": [
    "df.head()"
   ]
  },
  {
   "cell_type": "code",
   "execution_count": 6,
   "metadata": {},
   "outputs": [
    {
     "data": {
      "text/html": [
       "<div>\n",
       "<style scoped>\n",
       "    .dataframe tbody tr th:only-of-type {\n",
       "        vertical-align: middle;\n",
       "    }\n",
       "\n",
       "    .dataframe tbody tr th {\n",
       "        vertical-align: top;\n",
       "    }\n",
       "\n",
       "    .dataframe thead th {\n",
       "        text-align: right;\n",
       "    }\n",
       "</style>\n",
       "<table border=\"1\" class=\"dataframe\">\n",
       "  <thead>\n",
       "    <tr style=\"text-align: right;\">\n",
       "      <th></th>\n",
       "      <th>id</th>\n",
       "      <th>subCategory</th>\n",
       "      <th>articleType</th>\n",
       "      <th>baseColour</th>\n",
       "      <th>title</th>\n",
       "      <th>tokenized</th>\n",
       "      <th>file_name</th>\n",
       "      <th>tags</th>\n",
       "      <th>tags_pred</th>\n",
       "    </tr>\n",
       "    <tr>\n",
       "      <th>masterCategory</th>\n",
       "      <th></th>\n",
       "      <th></th>\n",
       "      <th></th>\n",
       "      <th></th>\n",
       "      <th></th>\n",
       "      <th></th>\n",
       "      <th></th>\n",
       "      <th></th>\n",
       "      <th></th>\n",
       "    </tr>\n",
       "  </thead>\n",
       "  <tbody>\n",
       "    <tr>\n",
       "      <th>Accessories</th>\n",
       "      <td>11286</td>\n",
       "      <td>11286</td>\n",
       "      <td>11286</td>\n",
       "      <td>11286</td>\n",
       "      <td>11286</td>\n",
       "      <td>11286</td>\n",
       "      <td>11286</td>\n",
       "      <td>11286</td>\n",
       "      <td>11286</td>\n",
       "    </tr>\n",
       "    <tr>\n",
       "      <th>Apparel</th>\n",
       "      <td>21395</td>\n",
       "      <td>21395</td>\n",
       "      <td>21395</td>\n",
       "      <td>21389</td>\n",
       "      <td>21395</td>\n",
       "      <td>21395</td>\n",
       "      <td>21395</td>\n",
       "      <td>21395</td>\n",
       "      <td>21395</td>\n",
       "    </tr>\n",
       "    <tr>\n",
       "      <th>Footwear</th>\n",
       "      <td>9220</td>\n",
       "      <td>9220</td>\n",
       "      <td>9220</td>\n",
       "      <td>9220</td>\n",
       "      <td>9220</td>\n",
       "      <td>9220</td>\n",
       "      <td>9220</td>\n",
       "      <td>9220</td>\n",
       "      <td>9220</td>\n",
       "    </tr>\n",
       "    <tr>\n",
       "      <th>Free Items</th>\n",
       "      <td>105</td>\n",
       "      <td>105</td>\n",
       "      <td>105</td>\n",
       "      <td>105</td>\n",
       "      <td>105</td>\n",
       "      <td>105</td>\n",
       "      <td>105</td>\n",
       "      <td>105</td>\n",
       "      <td>105</td>\n",
       "    </tr>\n",
       "    <tr>\n",
       "      <th>Home</th>\n",
       "      <td>1</td>\n",
       "      <td>1</td>\n",
       "      <td>1</td>\n",
       "      <td>1</td>\n",
       "      <td>1</td>\n",
       "      <td>1</td>\n",
       "      <td>1</td>\n",
       "      <td>1</td>\n",
       "      <td>1</td>\n",
       "    </tr>\n",
       "    <tr>\n",
       "      <th>Personal Care</th>\n",
       "      <td>2399</td>\n",
       "      <td>2399</td>\n",
       "      <td>2399</td>\n",
       "      <td>2395</td>\n",
       "      <td>2399</td>\n",
       "      <td>2399</td>\n",
       "      <td>2399</td>\n",
       "      <td>2399</td>\n",
       "      <td>2399</td>\n",
       "    </tr>\n",
       "    <tr>\n",
       "      <th>Sporting Goods</th>\n",
       "      <td>25</td>\n",
       "      <td>25</td>\n",
       "      <td>25</td>\n",
       "      <td>25</td>\n",
       "      <td>25</td>\n",
       "      <td>25</td>\n",
       "      <td>25</td>\n",
       "      <td>25</td>\n",
       "      <td>25</td>\n",
       "    </tr>\n",
       "  </tbody>\n",
       "</table>\n",
       "</div>"
      ],
      "text/plain": [
       "                   id  subCategory  articleType  baseColour  title  tokenized  \\\n",
       "masterCategory                                                                  \n",
       "Accessories     11286        11286        11286       11286  11286      11286   \n",
       "Apparel         21395        21395        21395       21389  21395      21395   \n",
       "Footwear         9220         9220         9220        9220   9220       9220   \n",
       "Free Items        105          105          105         105    105        105   \n",
       "Home                1            1            1           1      1          1   \n",
       "Personal Care    2399         2399         2399        2395   2399       2399   \n",
       "Sporting Goods     25           25           25          25     25         25   \n",
       "\n",
       "                file_name   tags  tags_pred  \n",
       "masterCategory                               \n",
       "Accessories         11286  11286      11286  \n",
       "Apparel             21395  21395      21395  \n",
       "Footwear             9220   9220       9220  \n",
       "Free Items            105    105        105  \n",
       "Home                    1      1          1  \n",
       "Personal Care        2399   2399       2399  \n",
       "Sporting Goods         25     25         25  "
      ]
     },
     "execution_count": 6,
     "metadata": {},
     "output_type": "execute_result"
    }
   ],
   "source": [
    "df.groupby(\"masterCategory\").count()"
   ]
  },
  {
   "cell_type": "code",
   "execution_count": 7,
   "metadata": {},
   "outputs": [],
   "source": [
    "removed_master_category = [\n",
    "    \"Home\",\n",
    "    \"Sporting Goods\",\n",
    "    \"Free Items\"\n",
    "]\n",
    "\n",
    "df = df[~df.masterCategory.isin(removed_master_category)]"
   ]
  },
  {
   "cell_type": "code",
   "execution_count": 8,
   "metadata": {},
   "outputs": [],
   "source": [
    "# convert stringified-list-type columns back to list\n",
    "df.tokenized = df.tokenized.apply(lambda tokens: ast.literal_eval(tokens))\n",
    "df.tags_pred = df.tags_pred.apply(lambda tags: ast.literal_eval(tags))"
   ]
  },
  {
   "cell_type": "code",
   "execution_count": 9,
   "metadata": {},
   "outputs": [],
   "source": [
    "labels = df.tokenized\n",
    "semantic_inputs = df.tags_pred\n",
    "file_names = df.file_name\n",
    "categories = df.subCategory"
   ]
  },
  {
   "cell_type": "code",
   "execution_count": null,
   "metadata": {},
   "outputs": [],
   "source": [
    "del df"
   ]
  },
  {
   "cell_type": "markdown",
   "metadata": {},
   "source": [
    "### Word List"
   ]
  },
  {
   "cell_type": "code",
   "execution_count": null,
   "metadata": {},
   "outputs": [],
   "source": [
    "# tokens_frequency = FreqDist()\n",
    "# for tokens in labels:\n",
    "#     tokens_frequency += FreqDist(tokens)\n",
    "\n",
    "# word_list = [token for token, freq in tokens_frequency.most_common()]\n",
    "\n",
    "# word_list = word_list[2:]\n",
    "\n",
    "# df_word_list = pd.DataFrame({\"word_list\": sorted(word_list)})\n",
    "\n",
    "# df_word_list.head()\n",
    "\n",
    "# df_word_list.to_csv(\"data/word_list.csv\", index=False)"
   ]
  },
  {
   "cell_type": "code",
   "execution_count": 10,
   "metadata": {},
   "outputs": [],
   "source": [
    "df_word_list = pd.read_csv(\"data/word_list.csv\")"
   ]
  },
  {
   "cell_type": "code",
   "execution_count": 11,
   "metadata": {},
   "outputs": [
    {
     "data": {
      "text/html": [
       "<div>\n",
       "<style scoped>\n",
       "    .dataframe tbody tr th:only-of-type {\n",
       "        vertical-align: middle;\n",
       "    }\n",
       "\n",
       "    .dataframe tbody tr th {\n",
       "        vertical-align: top;\n",
       "    }\n",
       "\n",
       "    .dataframe thead th {\n",
       "        text-align: right;\n",
       "    }\n",
       "</style>\n",
       "<table border=\"1\" class=\"dataframe\">\n",
       "  <thead>\n",
       "    <tr style=\"text-align: right;\">\n",
       "      <th></th>\n",
       "      <th>word_list</th>\n",
       "    </tr>\n",
       "  </thead>\n",
       "  <tbody>\n",
       "    <tr>\n",
       "      <th>0</th>\n",
       "      <td>a-line</td>\n",
       "    </tr>\n",
       "    <tr>\n",
       "      <th>1</th>\n",
       "      <td>aaa-chhe</td>\n",
       "    </tr>\n",
       "    <tr>\n",
       "      <th>2</th>\n",
       "      <td>aaliya</td>\n",
       "    </tr>\n",
       "    <tr>\n",
       "      <th>3</th>\n",
       "      <td>aandhi</td>\n",
       "    </tr>\n",
       "    <tr>\n",
       "      <th>4</th>\n",
       "      <td>aaren</td>\n",
       "    </tr>\n",
       "  </tbody>\n",
       "</table>\n",
       "</div>"
      ],
      "text/plain": [
       "  word_list\n",
       "0    a-line\n",
       "1  aaa-chhe\n",
       "2    aaliya\n",
       "3    aandhi\n",
       "4     aaren"
      ]
     },
     "execution_count": 11,
     "metadata": {},
     "output_type": "execute_result"
    }
   ],
   "source": [
    "df_word_list.head()"
   ]
  },
  {
   "cell_type": "markdown",
   "metadata": {},
   "source": [
    "### Split Train Val Test"
   ]
  },
  {
   "cell_type": "code",
   "execution_count": 12,
   "metadata": {},
   "outputs": [],
   "source": [
    "X_train, X_test, labels_train, labels_test = train_test_split(list(zip(file_names, semantic_inputs, categories)), labels, test_size=0.15, random_state=105, stratify=categories)"
   ]
  },
  {
   "cell_type": "code",
   "execution_count": 13,
   "metadata": {},
   "outputs": [],
   "source": [
    "X_train = np.array(X_train)\n",
    "X_test = np.array(X_test)"
   ]
  },
  {
   "cell_type": "code",
   "execution_count": null,
   "metadata": {},
   "outputs": [],
   "source": [
    "len(X_train)"
   ]
  },
  {
   "cell_type": "code",
   "execution_count": 14,
   "metadata": {},
   "outputs": [],
   "source": [
    "file_names_train = X_train[:, 0]\n",
    "semantic_inputs_train = X_train[:, 1]\n",
    "file_names_test = X_test[:, 0]\n",
    "semantic_inputs_test = X_test[:, 1]\n",
    "categories_train = X_train[:, 2]"
   ]
  },
  {
   "cell_type": "code",
   "execution_count": 19,
   "metadata": {},
   "outputs": [],
   "source": [
    "pd.DataFrame({'file_names': file_names_test}).to_csv('data/decoder_test.csv', index=False)"
   ]
  },
  {
   "cell_type": "code",
   "execution_count": null,
   "metadata": {},
   "outputs": [],
   "source": [
    "labels_train = list(labels_train)\n",
    "labels_test = list(labels_test)"
   ]
  },
  {
   "cell_type": "code",
   "execution_count": 19,
   "metadata": {},
   "outputs": [],
   "source": [
    "del file_names\n",
    "del labels\n",
    "del semantic_inputs\n",
    "del categories"
   ]
  },
  {
   "cell_type": "code",
   "execution_count": 20,
   "metadata": {},
   "outputs": [],
   "source": [
    "X_train, X_val, labels_train, labels_val = train_test_split(\n",
    "    list(zip(file_names_train, semantic_inputs_train)), labels_train,\n",
    "    test_size=0.15, random_state=105, stratify=categories_train\n",
    ")"
   ]
  },
  {
   "cell_type": "code",
   "execution_count": 21,
   "metadata": {},
   "outputs": [],
   "source": [
    "X_train = np.array(X_train)\n",
    "X_val = np.array(X_val)"
   ]
  },
  {
   "cell_type": "code",
   "execution_count": 22,
   "metadata": {},
   "outputs": [
    {
     "data": {
      "text/plain": [
       "32006"
      ]
     },
     "execution_count": 22,
     "metadata": {},
     "output_type": "execute_result"
    }
   ],
   "source": [
    "len(X_train)"
   ]
  },
  {
   "cell_type": "code",
   "execution_count": 23,
   "metadata": {},
   "outputs": [
    {
     "data": {
      "text/plain": [
       "5649"
      ]
     },
     "execution_count": 23,
     "metadata": {},
     "output_type": "execute_result"
    }
   ],
   "source": [
    "len(X_val)"
   ]
  },
  {
   "cell_type": "code",
   "execution_count": 24,
   "metadata": {},
   "outputs": [
    {
     "data": {
      "text/plain": [
       "6645"
      ]
     },
     "execution_count": 24,
     "metadata": {},
     "output_type": "execute_result"
    }
   ],
   "source": [
    "len(X_test)"
   ]
  },
  {
   "cell_type": "code",
   "execution_count": 25,
   "metadata": {},
   "outputs": [],
   "source": [
    "file_names_train = X_train[:, 0]\n",
    "semantic_inputs_train = X_train[:, 1]\n",
    "file_names_val = X_val[:, 0]\n",
    "semantic_inputs_val = X_val[:, 1]"
   ]
  },
  {
   "cell_type": "code",
   "execution_count": 26,
   "metadata": {},
   "outputs": [],
   "source": [
    "labels_train = list(labels_train)\n",
    "labels_val = list(labels_val)"
   ]
  },
  {
   "cell_type": "markdown",
   "metadata": {},
   "source": [
    "## Build Vocabulary"
   ]
  },
  {
   "cell_type": "markdown",
   "metadata": {},
   "source": [
    "### Vocabulary Class"
   ]
  },
  {
   "cell_type": "code",
   "execution_count": 20,
   "metadata": {},
   "outputs": [],
   "source": [
    "class Vocabulary(object):\n",
    "    \"\"\"Simple vocabulary wrapper.\"\"\"\n",
    "    def __init__(self):\n",
    "        self.word2idx = {}\n",
    "        self.idx2word = {}\n",
    "        self.idx = 0\n",
    "\n",
    "    def add_word(self, word):\n",
    "        if not word in self.word2idx:\n",
    "            self.word2idx[word] = self.idx\n",
    "            self.idx2word[self.idx] = word\n",
    "            self.idx += 1\n",
    "\n",
    "    def get_word(self, idx):\n",
    "        return self.idx2word[idx]\n",
    "\n",
    "    def __call__(self, word):\n",
    "        if not word in self.word2idx:\n",
    "            return self.word2idx['<unk>']\n",
    "        return self.word2idx[word]\n",
    "\n",
    "    def __len__(self):\n",
    "        return len(self.word2idx)\n"
   ]
  },
  {
   "cell_type": "markdown",
   "metadata": {},
   "source": [
    "### Build Vocab"
   ]
  },
  {
   "cell_type": "code",
   "execution_count": 21,
   "metadata": {},
   "outputs": [],
   "source": [
    "def build_vocab(word_list):\n",
    "    \n",
    "    vocab = Vocabulary()\n",
    "    \n",
    "    vocab.add_word(start_token)\n",
    "    vocab.add_word(end_token)\n",
    "    vocab.add_word(unknown_token)\n",
    "    vocab.add_word(padding_token)\n",
    "    \n",
    "    for word in word_list:\n",
    "        vocab.add_word(word)\n",
    "        \n",
    "    return vocab"
   ]
  },
  {
   "cell_type": "code",
   "execution_count": 22,
   "metadata": {},
   "outputs": [],
   "source": [
    "vocab = build_vocab(df_word_list.word_list)"
   ]
  },
  {
   "cell_type": "markdown",
   "metadata": {},
   "source": [
    "## Build Caption Model"
   ]
  },
  {
   "cell_type": "code",
   "execution_count": 23,
   "metadata": {},
   "outputs": [],
   "source": [
    "def split_tensor1d(tensor, split):\n",
    "    r\"\"\"Split 1D of tensor into N split\n",
    "\n",
    "    Arguments\n",
    "        tensor (Pytorch.Tensor) : tensor to split\n",
    "        split  (int) : number of split\n",
    "    Return\n",
    "        array of splitted tensor with N elements of array\n",
    "    \"\"\"\n",
    "    return [\n",
    "        tensor[:split],\n",
    "        tensor[split: split * 2],\n",
    "        tensor[split * 2: split * 3],\n",
    "        tensor[split * 3:],\n",
    "    ]\n",
    "\n",
    "\n",
    "def split_tensor2d(tensor, split, front=False):\n",
    "    r\"\"\"Split 2D of tensor into N split of 2D tensor\n",
    "\n",
    "    Arguments\n",
    "        tensor (Pytorch.Tensor) : tensor to split\n",
    "        split  (int) : number of split\n",
    "        front  (bool) : split axis 0 if True else axis 1\n",
    "    Return\n",
    "        array of splitted 2D tensor with N elements of array\n",
    "    \"\"\"\n",
    "\n",
    "    if front:\n",
    "        return [\n",
    "            tensor[:split, :],\n",
    "            tensor[split: split * 2, :],\n",
    "            tensor[split * 2: split * 3, :],\n",
    "            tensor[split * 3:, :],\n",
    "        ]\n",
    "\n",
    "    return [\n",
    "        tensor[:, :split],\n",
    "        tensor[:, split: split * 2],\n",
    "        tensor[:, split * 2: split * 3],\n",
    "        tensor[:, split * 3:],\n",
    "    ]\n"
   ]
  },
  {
   "cell_type": "code",
   "execution_count": 24,
   "metadata": {},
   "outputs": [],
   "source": [
    "def indexto1hot(vocab_len, index):\n",
    "    #print(\"index type: \")\n",
    "    if isinstance(index, int) == False:\n",
    "        n = len(index)\n",
    "        #print(\"making a 1hot encoding of shape: \" + str(n) + \",\" + str(vocab_len) )\n",
    "        one_hot = np.zeros([n,vocab_len])\n",
    "        #can this be optimized?\n",
    "        for i in range(n):\n",
    "            one_hot[i,index[i]]=1\n",
    "        \n",
    "        return one_hot\n",
    "    else:\n",
    "        one_hot = np.zeros([vocab_len])\n",
    "        one_hot[index] = 1\n",
    "        \n",
    "        return one_hot"
   ]
  },
  {
   "cell_type": "code",
   "execution_count": 25,
   "metadata": {},
   "outputs": [],
   "source": [
    "class AttentionLSTM(nn.Module):\n",
    "    def __init__(self, dim_word_emb, dim_lang_lstm, dim_image_feats, nb_hidden):\n",
    "        super(AttentionLSTM, self).__init__()\n",
    "        \n",
    "        self.lstm_cell = nn.LSTMCell(dim_lang_lstm+dim_image_feats+dim_word_emb,\n",
    "                                     nb_hidden,\n",
    "                                     bias=True)\n",
    "        \n",
    "    def forward(self, h1, c1, h2, v_mean, word_emb):\n",
    "        #print(h2.shape)\n",
    "        #print(v_mean.shape)\n",
    "        #print(word_emb.shape)\n",
    "        input_feats = torch.cat((h2, v_mean, word_emb),dim=1)\n",
    "        h_out, c_out = self.lstm_cell(input_feats, (h1, c1))\n",
    "        \n",
    "        return h_out, c_out\n"
   ]
  },
  {
   "cell_type": "code",
   "execution_count": 26,
   "metadata": {},
   "outputs": [],
   "source": [
    "class Attend(nn.Module):\n",
    "    def __init__(self, dim_image_feats, dim_att_lstm, nb_hidden):\n",
    "        super(Attend, self).__init__()\n",
    "    \n",
    "        self.fc_image_feats = nn.Linear(dim_image_feats, nb_hidden, bias=False)\n",
    "        self.fc_att_lstm = nn.Linear(dim_att_lstm, nb_hidden, bias=False)\n",
    "        self.act_tan = nn.Tanh()\n",
    "        self.fc_att = nn.Linear(nb_hidden, 1)\n",
    "        self.softmax = nn.Softmax(dim=1)\n",
    "\n",
    "    def forward(self, image_feats, h1):\n",
    "        nb_batch, nb_feats, feat_dim = image_feats.size()\n",
    "        att_lstm_emb = self.fc_att_lstm(h1).unsqueeze(1)\n",
    "        image_feats_emb = self.fc_image_feats(image_feats)\n",
    "        all_feats_emb = image_feats_emb + att_lstm_emb.repeat(1,nb_feats,1)\n",
    "\n",
    "        activate_feats = self.act_tan(all_feats_emb)\n",
    "        unnorm_attention = self.fc_att(activate_feats)\n",
    "        normed_attention = self.softmax(unnorm_attention)\n",
    "\n",
    "        #print(normed_attention.shape)\n",
    "        #print(nb_feats)\n",
    "        #print(image_feats.shape)\n",
    "        #weighted_feats = normed_attention.repeat(1,1,nb_feats) * image_feats\n",
    "        weighted_feats = normed_attention * image_feats\n",
    "        #print(weighted_feats.shape)\n",
    "        attended_image_feats = weighted_feats.sum(dim=1)\n",
    "        #print(attended_image_feats.shape)\n",
    "    \n",
    "        return attended_image_feats\n"
   ]
  },
  {
   "cell_type": "code",
   "execution_count": 27,
   "metadata": {},
   "outputs": [],
   "source": [
    "class SCNCell(nn.Module):\n",
    "    r\"\"\"Custom Cell for Implementing Semantic Compositional Networks\n",
    "\n",
    "    Arguments\n",
    "        input_size (int): size of input\n",
    "        hidden_size (int): size of embedding\n",
    "        semantic_size (int): size of semantic\n",
    "        factor_size (int): size of factor\n",
    "        bias (boolean, optional): use bias?\n",
    "    \"\"\"\n",
    "\n",
    "    def __init__(self, input_size, hidden_size, semantic_size, factor_size, bias=True):\n",
    "        super(SCNCell, self).__init__()\n",
    "\n",
    "        self.factor_size = factor_size\n",
    "        self.input_size = input_size\n",
    "        self.hidden_size = hidden_size\n",
    "        self.semantic_size = semantic_size\n",
    "\n",
    "        self.weight_ia = nn.Parameter(\n",
    "            torch.Tensor(input_size, 4 * factor_size))\n",
    "        self.weight_ib = nn.Parameter(\n",
    "            torch.Tensor(semantic_size, 4 * factor_size))\n",
    "        self.weight_ic = nn.Parameter(\n",
    "            torch.Tensor(hidden_size, 4 * factor_size))\n",
    "\n",
    "        self.weight_ha = nn.Parameter(\n",
    "            torch.Tensor(hidden_size, 4 * factor_size))\n",
    "        self.weight_hb = nn.Parameter(\n",
    "            torch.Tensor(semantic_size, 4 * factor_size))\n",
    "        self.weight_hc = nn.Parameter(\n",
    "            torch.Tensor(hidden_size, 4 * factor_size))\n",
    "\n",
    "        if bias:\n",
    "            self.bias_ih = nn.Parameter(torch.Tensor(4 * hidden_size))\n",
    "            self.bias_hh = nn.Parameter(torch.Tensor(4 * hidden_size))\n",
    "        else:\n",
    "            self.register_parameter('bias_ih', None)\n",
    "            self.register_parameter('bias_hh', None)\n",
    "\n",
    "        self.reset_parameters()\n",
    "\n",
    "    def forward(self, h1, v_hat, semantic_input, hx=None):\n",
    "        r\"\"\"Forward propagation.\n",
    "\n",
    "        Arguments\n",
    "            wemb_input (torch.Tensor): word embedding input, a tensor of dimension (batch_size, input_size)\n",
    "            semantic_input (torch.Tensor): semantic concepts input, a tensor of dimension (batch_size, semantic_dim)\n",
    "        Returns\n",
    "            torch.Tensor: next hidden state, next cell state\n",
    "        \"\"\"\n",
    "\n",
    "        input_feats = torch.cat((h1, v_hat), dim=1)\n",
    "        \n",
    "        self.check_forward_input(input_feats)\n",
    "\n",
    "        [ia_i, ia_f, ia_o, ia_c] = split_tensor2d(\n",
    "            self.weight_ia, self.factor_size)\n",
    "        [ib_i, ib_f, ib_o, ib_c] = split_tensor2d(\n",
    "            self.weight_ib, self.factor_size)\n",
    "        [ic_i, ic_f, ic_o, ic_c] = split_tensor2d(\n",
    "            self.weight_ic, self.factor_size)\n",
    "        [b_ii, b_if, b_io, b_ic] = split_tensor1d(\n",
    "            self.bias_ih, self.hidden_size)\n",
    "\n",
    "        tmp1_i = (input_feats @ ia_i)\n",
    "        tmp1_f = (input_feats @ ia_f)\n",
    "        tmp1_o = (input_feats @ ia_o)\n",
    "        tmp1_c = (input_feats @ ia_c)\n",
    "\n",
    "        tmp2_i = (semantic_input @ ib_i).unsqueeze(0)\n",
    "        tmp2_f = (semantic_input @ ib_f).unsqueeze(0)\n",
    "        tmp2_o = (semantic_input @ ib_o).unsqueeze(0)\n",
    "        tmp2_c = (semantic_input @ ib_c).unsqueeze(0)\n",
    "\n",
    "        state_below_i = ((tmp1_i * tmp2_i) @ ic_i.t()) + b_ii\n",
    "        state_below_f = ((tmp1_f * tmp2_f) @ ic_f.t()) + b_if\n",
    "        state_below_o = ((tmp1_o * tmp2_o) @ ic_o.t()) + b_io\n",
    "        state_below_c = ((tmp1_c * tmp2_c) @ ic_c.t()) + b_ic\n",
    "\n",
    "        x_i = state_below_i.squeeze(0)\n",
    "        x_f = state_below_f.squeeze(0)\n",
    "        x_o = state_below_o.squeeze(0)\n",
    "        x_c = state_below_c.squeeze(0)\n",
    "\n",
    "        if hx is None:\n",
    "            hx = input_feats.new_zeros(input_feats.size(\n",
    "                0), self.hidden_size, requires_grad=False)\n",
    "            hx = (hx, hx)\n",
    "\n",
    "        self.check_forward_hidden(x_i, hx[0], '[0]')\n",
    "        self.check_forward_hidden(x_i, hx[1], '[1]')\n",
    "\n",
    "        self.check_forward_hidden(x_f, hx[0], '[0]')\n",
    "        self.check_forward_hidden(x_f, hx[1], '[1]')\n",
    "\n",
    "        self.check_forward_hidden(x_o, hx[0], '[0]')\n",
    "        self.check_forward_hidden(x_o, hx[1], '[1]')\n",
    "\n",
    "        self.check_forward_hidden(x_c, hx[0], '[0]')\n",
    "        self.check_forward_hidden(x_c, hx[1], '[1]')\n",
    "\n",
    "        return self.recurrent_step(x_i, x_f, x_o, x_c, semantic_input, hx)\n",
    "\n",
    "    def recurrent_step(self, x_i, x_f, x_o, x_c, semantic_input, hx):\n",
    "        r\"\"\"Recurrent step helper for forward propagation.\n",
    "\n",
    "        Arguments\n",
    "            x_i, x_f, x_o, x_c (torch.Tensor): factorized input, containing information from word embedding and semantic concepts, tensors of dimension (batch_size, input_size)\n",
    "            semantic_input (torch.Tensor): semantic concepts input, a tensor of dimension (batch_size, semantic_dim)\n",
    "            h_x (torch.Tensor): initial value of hidden and cell state\n",
    "        Returns\n",
    "            torch.Tensor: next hidden state, next cell state\n",
    "        \"\"\"\n",
    "\n",
    "        h_, c_ = hx\n",
    "\n",
    "        [ha_i, ha_f, ha_o, ha_c] = split_tensor2d(\n",
    "            self.weight_ha, self.factor_size)\n",
    "        [hb_i, hb_f, hb_o, hb_c] = split_tensor2d(\n",
    "            self.weight_hb, self.factor_size)\n",
    "        [hc_i, hc_f, hc_o, hc_c] = split_tensor2d(\n",
    "            self.weight_hc, self.factor_size)\n",
    "        [b_hi, b_hf, b_ho, b_hc] = split_tensor1d(\n",
    "            self.bias_hh, self.hidden_size)\n",
    "\n",
    "        preact_i = (h_ @ ha_i) * (semantic_input @ hb_i)\n",
    "        preact_i = (preact_i @ hc_i.t()) + x_i + b_hi\n",
    "\n",
    "        preact_f = (h_ @ ha_f) * (semantic_input @ hb_f)\n",
    "        preact_f = (preact_f @ hc_f.t()) + x_f + b_hf\n",
    "\n",
    "        preact_o = (h_ @ ha_o) * (semantic_input @ hb_o)\n",
    "        preact_o = (preact_o @ hc_o.t()) + x_o + b_ho\n",
    "\n",
    "        preact_c = (h_ @ ha_c) * (semantic_input @ hb_c)\n",
    "        preact_c = (preact_c @ hc_c.t()) + x_c + b_hc\n",
    "\n",
    "        i = torch.sigmoid(preact_i)\n",
    "        f = torch.sigmoid(preact_f)\n",
    "        o = torch.sigmoid(preact_o)\n",
    "        c = torch.tanh(preact_c)\n",
    "\n",
    "        c = f * c_ + i * c\n",
    "        h = o * torch.tanh(c)\n",
    "\n",
    "        return h, c\n",
    "\n",
    "    def reset_parameters(self):\n",
    "        stdv = 1.0 / math.sqrt(self.hidden_size)\n",
    "        for weight in self.parameters():\n",
    "            torch.nn.init.uniform_(weight, -stdv, stdv)\n",
    "\n",
    "    def extra_repr(self):\n",
    "        s = '{input_size}, {hidden_size}'\n",
    "        if 'bias' in self.__dict__ and self.bias is not True:\n",
    "            s += ', bias={bias}'\n",
    "        if 'nonlinearity' in self.__dict__ and self.nonlinearity != \"tanh\":\n",
    "            s += ', nonlinearity={nonlinearity}'\n",
    "        return s.format(**self.__dict__)\n",
    "\n",
    "    def check_forward_input(self, input):\n",
    "        if input.size(1) != self.input_size:\n",
    "            raise RuntimeError(\n",
    "                \"input has inconsistent input_size: got {}, expected {}\".format(\n",
    "                    input.size(1), self.input_size))\n",
    "\n",
    "    def check_forward_hidden(self, input, hx, hidden_label=''):\n",
    "        if input.size(0) != hx.size(0):\n",
    "            raise RuntimeError(\n",
    "                \"Input batch size {} doesn't match hidden{} batch size {}\".format(\n",
    "                    input.size(0), hidden_label, hx.size(0)))\n",
    "\n",
    "        if hx.size(1) != self.hidden_size:\n",
    "            raise RuntimeError(\n",
    "                \"hidden{} has inconsistent hidden_size: got {}, expected {}\".format(\n",
    "                    hidden_label, hx.size(1), self.hidden_size))\n"
   ]
  },
  {
   "cell_type": "code",
   "execution_count": 28,
   "metadata": {},
   "outputs": [],
   "source": [
    "# Sentence is class for beam search\n",
    "class Sentence(object):\n",
    "    def __init__(self, max_nb_words, beam_width, end_word, vocab):\n",
    "        self.max_nb_words = max_nb_words\n",
    "        self.beam_width = beam_width\n",
    "        self.end_word = end_word\n",
    "        self.vocab = vocab\n",
    "\n",
    "        self.words = []\n",
    "        self.probability = 0\n",
    "        self.ended = False\n",
    "\n",
    "        self.act = nn.Softmax(dim=1)\n",
    "\n",
    "    def update_words(self, s, state, y):\n",
    "        y = self.act(y)\n",
    "        new_s = []\n",
    "        for i in range(self.beam_width):\n",
    "            val, idx = y.max(dim=1)\n",
    "            y[0, idx] -= val\n",
    "            current_word = y.clone()\n",
    "            current_word[0,:] = 0\n",
    "            current_word[0,idx] = 1\n",
    "            s2 = s.copy()\n",
    "            s2.update_state(val, state, current_word)\n",
    "            new_s.append(s2)\n",
    "            if s2.ended:\n",
    "                break\n",
    "        return new_s\n",
    "\n",
    "    def update_state(self, p, state, current_word):\n",
    "        self.state = [s.clone() for s in state]\n",
    "        self.words.append(current_word)\n",
    "        self._update_probability(p)\n",
    "        self._update_finished()\n",
    "\n",
    "    def get_states(self):\n",
    "        return self.state, self.words[-1]\n",
    "\n",
    "    def extract_sentence(self):\n",
    "        sentence = []\n",
    "        for w in self.words:\n",
    "            idx = w.max(1)[1].item()\n",
    "            sentence.append(self.vocab.get_word(idx))\n",
    "        return [self.probability, sentence]\n",
    "\n",
    "    def _update_probability(self, p):\n",
    "        self.probability += log(p, 2)\n",
    "\n",
    "    def _update_finished(self):\n",
    "        n = len(self.words)\n",
    "        f = self.words[-1]\n",
    "        if (n > self.max_nb_words) or (f == self.end_word).all():\n",
    "            self.ended = True\n",
    "\n",
    "    def copy(self):\n",
    "        new = Sentence(self.max_nb_words,\n",
    "                       self.beam_width,\n",
    "                       self.end_word,\n",
    "                       self.vocab)\n",
    "        new.words = [w.clone() for w in self.words]\n",
    "        new.probability = self.probability\n",
    "        return new\n",
    "\n",
    "    def __lt__(self, other):\n",
    "        return self.probability < other.probability\n",
    "\n",
    "    def __repr__(self):\n",
    "        s = ''\n",
    "        for w in self.words:\n",
    "            idx = w.max(1)[1].item()\n",
    "            s += \"{}, \".format(self.vocab.get_word(idx))\n",
    "        return s\n",
    "\n",
    "\n",
    "class Beam(object):\n",
    "    def __init__(self, beam_width):\n",
    "        self.beam_width = beam_width\n",
    "        self.heap = []\n",
    "\n",
    "    def push(self, s):\n",
    "        s.probability *= -1\n",
    "        heapq.heappush(self.heap, s)\n",
    "\n",
    "    def pop(self):\n",
    "        s = heapq.heappop(self.heap)\n",
    "        s.probability *= -1\n",
    "        return s\n",
    "\n",
    "    def trim(self):\n",
    "        h2 = []\n",
    "        for i in range(self.beam_width):\n",
    "            if len(self.heap) == 0:\n",
    "                break\n",
    "            heapq.heappush(h2, heapq.heappop(self.heap))\n",
    "        self.heap=h2\n",
    "\n",
    "    def __len__(self):\n",
    "        return len(self.heap)\n"
   ]
  },
  {
   "cell_type": "code",
   "execution_count": 29,
   "metadata": {},
   "outputs": [],
   "source": [
    "class PredictWord(nn.Module):\n",
    "    def __init__(self, dim_language_lstm, dict_size):\n",
    "        super(PredictWord, self).__init__()\n",
    "        self.fc = nn.Linear(dim_language_lstm, dict_size)\n",
    "        \n",
    "    def forward(self, h2):\n",
    "        y = self.fc(h2)\n",
    "        return y"
   ]
  },
  {
   "cell_type": "code",
   "execution_count": 30,
   "metadata": {},
   "outputs": [],
   "source": [
    "def make_zeros(shape, cuda=False):\n",
    "    zeros = torch.zeros(shape)\n",
    "    if cuda:\n",
    "        zeros = zeros.cuda()\n",
    "    return zeros"
   ]
  },
  {
   "cell_type": "markdown",
   "metadata": {},
   "source": [
    "## Data Generator"
   ]
  },
  {
   "cell_type": "code",
   "execution_count": 31,
   "metadata": {},
   "outputs": [],
   "source": [
    "class FullProductDataset(Dataset):\n",
    "    \"\"\"Dataset for product with it's image, title token, and semantic input.\"\"\"\n",
    "\n",
    "    def __init__(self, file_names, semantic_inputs, titles, image_dir, vocab, transformer=None):\n",
    "        \"\"\"\n",
    "        Args:\n",
    "            csv_file (string): Path to the csv file with annotations.\n",
    "            image_dir (string): Directory with all the images.\n",
    "            transform (callable, optional): Optional transform to be applied on an image.\n",
    "        \"\"\"\n",
    "        self.file_names = file_names\n",
    "        self.semantic_inputs = semantic_inputs\n",
    "        self.titles = titles\n",
    "        self.image_dir = image_dir\n",
    "        self.transformer = transformer\n",
    "        self.vocab = vocab\n",
    "\n",
    "    def __len__(self):\n",
    "        return len(self.file_names)\n",
    "\n",
    "    def __getitem__(self, idx):\n",
    "        if torch.is_tensor(idx):\n",
    "            idx = idx.tolist()\n",
    "\n",
    "        img_name = os.path.join(self.image_dir, self.file_names[idx])\n",
    "        image = Image.open(img_name).convert('RGB')\n",
    "        if self.transformer:\n",
    "            image = self.transformer(image)\n",
    "        \n",
    "        semantic_input = self.semantic_inputs[idx]\n",
    "        semantic_input = torch.tensor(semantic_input, dtype=torch.float)\n",
    "        \n",
    "        title = [vocab(token) for token in self.titles[idx]]\n",
    "        title = torch.tensor(title)\n",
    "     \n",
    "        print(img_name)\n",
    "        return image, semantic_input, title"
   ]
  },
  {
   "cell_type": "code",
   "execution_count": 32,
   "metadata": {},
   "outputs": [],
   "source": [
    "def collate_fn(sample):\n",
    "    \"\"\"Creates mini-batch tensors from the list of tuples (image, caption).\n",
    "    \n",
    "    We should build custom collate_fn rather than using default collate_fn, \n",
    "    because merging caption (including padding) is not supported in default.\n",
    "    Args:\n",
    "        data: list of tuple (image, caption). \n",
    "            - feature: torch tensor of shape (36,2048).\n",
    "            - caption: torch tensor of shape (?); variable length.\n",
    "    Returns:\n",
    "        features: torch tensor of shape (batch_size, 36, 2048).\n",
    "        targets: torch tensor of shape (batch_size, padded_length).\n",
    "        lengths: list; valid length for each padded caption.\n",
    "    \"\"\"\n",
    "    # Sort data list by caption length (descending order).\n",
    "    sample.sort(key=lambda x: len(x[2]), reverse=True)\n",
    "    images, semantic_inputs, titles = zip(*sample)\n",
    "    \n",
    "    # Merge captions (from tuple of 1D tensor to 2D tensor).\n",
    "    lengths = [len(title) for title in titles]\n",
    "\n",
    "    targets = torch.zeros(len(titles), max(lengths)).long()\n",
    "    for i, title in enumerate(titles):\n",
    "        end = lengths[i]\n",
    "        targets[i, :end] = title[:end]\n",
    "\n",
    "    return torch.stack(images), torch.stack(semantic_inputs), targets, lengths"
   ]
  },
  {
   "cell_type": "code",
   "execution_count": 33,
   "metadata": {},
   "outputs": [
    {
     "name": "stdout",
     "output_type": "stream",
     "text": [
      "data/images/16439.jpg\n",
      "0 (60, 80) torch.Size([1000]) torch.Size([10])\n",
      "data/images/4081.jpg\n",
      "1 (60, 80) torch.Size([1000]) torch.Size([8])\n",
      "data/images/48223.jpg\n",
      "2 (60, 80) torch.Size([1000]) torch.Size([8])\n",
      "data/images/23053.jpg\n",
      "3 (60, 80) torch.Size([1000]) torch.Size([7])\n"
     ]
    },
    {
     "data": {
      "image/png": "[encoded data removed]",
      "text/plain": [
       "<Figure size 432x288 with 4 Axes>"
      ]
     },
     "metadata": {
      "needs_background": "light"
     },
     "output_type": "display_data"
    }
   ],
   "source": [
    "# test dataset\n",
    "dataset = FullProductDataset(file_names_train, semantic_inputs_train, labels_train, \"data/images\", vocab)\n",
    "\n",
    "fig = plt.figure()\n",
    "\n",
    "for i in range(len(dataset)):\n",
    "    image, semantic_input, title = dataset[i]\n",
    "\n",
    "    print(i, image.size, semantic_input.shape, title.shape)\n",
    "\n",
    "    ax = plt.subplot(1, 4, i + 1)\n",
    "    plt.tight_layout()\n",
    "    ax.set_title('Sample #{}'.format(i))\n",
    "    ax.axis('off')\n",
    "    plt.imshow(image)\n",
    "    \n",
    "    if i == 3:\n",
    "        plt.show()\n",
    "        break"
   ]
  },
  {
   "cell_type": "markdown",
   "metadata": {},
   "source": [
    "### Image Augmentation"
   ]
  },
  {
   "cell_type": "code",
   "execution_count": 34,
   "metadata": {},
   "outputs": [],
   "source": [
    "image_transformer = transforms.Compose([\n",
    "    transforms.Resize(224),\n",
    "#     transforms.RandomHorizontalFlip(),\n",
    "    transforms.RandomResizedCrop(224, scale=(1.0, 1.0)),\n",
    "    transforms.ToTensor(),\n",
    "    transforms.Normalize(mean=[0.485, 0.456, 0.406], std=[0.229, 0.224, 0.225])\n",
    "])"
   ]
  },
  {
   "cell_type": "markdown",
   "metadata": {},
   "source": [
    "## Train Model"
   ]
  },
  {
   "cell_type": "markdown",
   "metadata": {},
   "source": [
    "### Load Encoder Model from Image Tagger"
   ]
  },
  {
   "cell_type": "code",
   "execution_count": 35,
   "metadata": {},
   "outputs": [],
   "source": [
    "class ImageTagger(nn.Module):\n",
    "    r\"\"\"Tagger Encoder extends ResNet152 Model.\n",
    "\n",
    "    Arguments:\n",
    "        semantic_size (int, optional): size of semantic size\n",
    "        dropout (float, optional): dropout rate\n",
    "    \"\"\"\n",
    "\n",
    "    def __init__(self, semantic_size=1000, dropout=0.15):\n",
    "        super(ImageTagger, self).__init__()\n",
    "        self.semantic_size = semantic_size\n",
    "\n",
    "        # Using pre-trained ImageNet\n",
    "        resnet = torchvision.models.resnet152(pretrained=True)\n",
    "\n",
    "        # Remove linear layers (since we're not doing classification)\n",
    "        modules = list(resnet.children())[:-1]\n",
    "        self.resnet = nn.Sequential(*modules)\n",
    "\n",
    "        self.dropout = nn.Dropout(dropout)\n",
    "\n",
    "        self.linear = nn.Linear(2048, semantic_size)\n",
    "\n",
    "        self.sigmoid = nn.Sigmoid()\n",
    "\n",
    "        self.fine_tune()\n",
    "\n",
    "    def forward(self, images):\n",
    "        r\"\"\"Forward propagation.\n",
    "\n",
    "        Arguments\n",
    "            images (torch.Tensor): images, a tensor of dimensions (batch_size, 3, image_size, image_size)\n",
    "        Returns \n",
    "            torch.Tensor: probabilites of tags (batch_size, 1000)\n",
    "        \"\"\"\n",
    "        out = self.resnet(images)\n",
    "        out = out.view(out.size(0), -1)   # (batch_size, 2048)\n",
    "        out = self.dropout(out)           # (batch_size, 2048)\n",
    "        out = self.linear(out)            # (batch_size, 1000)\n",
    "        out = self.sigmoid(out)           # (batch_size, 1000)\n",
    "        \n",
    "        return out\n",
    "\n",
    "    def fine_tune(self, fine_tune=True):\n",
    "        r\"\"\"Allow or prevent the computation of gradients for convolutional blocks 2 through 4 of the encoder.\n",
    "\n",
    "        Arguments\n",
    "            fine_tune (boolean): Allow fine tuning?\n",
    "        \"\"\"\n",
    "        for p in self.resnet.parameters():\n",
    "            p.requires_grad = False\n",
    "        # If fine-tuning, only fine-tune convolutional blocks 2 through 4\n",
    "        for c in list(self.resnet.children())[5:]:\n",
    "            for p in c.parameters():\n",
    "                p.requires_grad = fine_tune"
   ]
  },
  {
   "cell_type": "code",
   "execution_count": 36,
   "metadata": {},
   "outputs": [],
   "source": [
    "image_tagger = ImageTagger()\n",
    "image_tagger = image_tagger.cuda()"
   ]
  },
  {
   "cell_type": "code",
   "execution_count": 37,
   "metadata": {},
   "outputs": [
    {
     "data": {
      "text/plain": [
       "<All keys matched successfully>"
      ]
     },
     "execution_count": 37,
     "metadata": {},
     "output_type": "execute_result"
    }
   ],
   "source": [
    "image_tagger.load_state_dict(torch.load(\"models/image_tagger.best_3\")['model_state_dict'])"
   ]
  },
  {
   "cell_type": "code",
   "execution_count": 38,
   "metadata": {},
   "outputs": [],
   "source": [
    "encoder = image_tagger.resnet"
   ]
  },
  {
   "cell_type": "markdown",
   "metadata": {},
   "source": [
    "### Try the Model"
   ]
  },
  {
   "cell_type": "code",
   "execution_count": 39,
   "metadata": {},
   "outputs": [],
   "source": [
    "class CaptionModel(nn.Module):\n",
    "\n",
    "    def __init__(self, dict_size, image_feature_dim, vocab, tf_ratio):\n",
    "        super(CaptionModel, self).__init__()\n",
    "        self.dict_size = dict_size\n",
    "        self.image_feature_dim = image_feature_dim\n",
    "        self.vocab = vocab\n",
    "        self.tf_ratio = tf_ratio\n",
    "\n",
    "        self.embed_word = nn.Linear(dict_size, WORD_EMB_DIM, bias=False)\n",
    "        self.lstm1 = AttentionLSTM(WORD_EMB_DIM,\n",
    "                                   NB_HIDDEN_LSTM2,\n",
    "                                   image_feature_dim,\n",
    "                                   NB_HIDDEN_LSTM1)\n",
    "        self.lstm2 = SCNCell(NB_HIDDEN_LSTM1+image_feature_dim,\n",
    "                             NB_HIDDEN_LSTM2,\n",
    "                             SEMANTIC_DIM,\n",
    "                             FACTORED_DIM,\n",
    "                             bias=True)\n",
    "        self.attention = Attend(image_feature_dim,\n",
    "                                NB_HIDDEN_LSTM1,\n",
    "                                NB_HIDDEN_ATT)\n",
    "        self.predict_word = PredictWord(NB_HIDDEN_LSTM2, dict_size)\n",
    "\n",
    "        self.h1 = torch.nn.Parameter(torch.zeros(1, NB_HIDDEN_LSTM1))\n",
    "        self.c1 = torch.nn.Parameter(torch.zeros(1, NB_HIDDEN_LSTM1))\n",
    "        self.h2 = torch.nn.Parameter(torch.zeros(1, NB_HIDDEN_LSTM2))\n",
    "        self.c2 = torch.nn.Parameter(torch.zeros(1, NB_HIDDEN_LSTM2))\n",
    "    \n",
    "    def forward(self, image_feats, nb_timesteps, semantic_input, true_words, beam=None):\n",
    "        if beam is not None:\n",
    "            return self.beam_search(image_feats, nb_timesteps, beam, semantic_input)\n",
    "\n",
    "        nb_batch, nb_image_feats, _ = image_feats.size()\n",
    "        use_cuda = image_feats.is_cuda\n",
    "\n",
    "        v_mean = image_feats.mean(dim=1)\n",
    "\n",
    "        state, current_word = self.init_inference(nb_batch, use_cuda)\n",
    "        y_out = make_zeros((nb_batch, nb_timesteps-1, self.dict_size), cuda = use_cuda)\n",
    "\n",
    "        for t in range(nb_timesteps-1):\n",
    "            y, state = self.forward_one_step(state,\n",
    "                                             current_word,\n",
    "                                             v_mean,\n",
    "                                             image_feats,\n",
    "                                             semantic_input)\n",
    "            y_out[:,t,:] = y\n",
    "\n",
    "            current_word = self.update_current_word(y, true_words, t, use_cuda)\n",
    "\n",
    "        return y_out\n",
    "\n",
    "    def forward_one_step(self, state, current_word, v_mean, image_feats, semantic_input):\n",
    "        h1, c1, h2, c2 = state\n",
    "        word_emb = self.embed_word(current_word)\n",
    "        h1, c1 = self.lstm1(h1, c1, h2, v_mean, word_emb)\n",
    "        v_hat = self.attention(image_feats, h1)\n",
    "        h2, c2 = self.lstm2(h1, v_hat, semantic_input)\n",
    "        y = self.predict_word(h2)\n",
    "        state = [h1, c1, h2, c2]\n",
    "        \n",
    "        return y, state\n",
    "\n",
    "    def update_current_word(self, y, true_words, t, cuda):\n",
    "        use_tf = True if random.random() < self.tf_ratio else False\n",
    "        if use_tf:\n",
    "            next_word = true_words[:,t+1]\n",
    "        else:\n",
    "            next_word = torch.argmax(y, dim=1)\n",
    "\n",
    "        current_word = indexto1hot(len(self.vocab), next_word)\n",
    "        current_word = torch.from_numpy(current_word).float()\n",
    "        \n",
    "        if cuda:\n",
    "            current_word = current_word.cuda()\n",
    "    \n",
    "        return current_word\n",
    "\n",
    "    def init_inference(self, nb_batch, cuda):\n",
    "        start_word = indexto1hot(len(self.vocab), self.vocab('<start>'))\n",
    "        start_word = torch.from_numpy(start_word).float().unsqueeze(0)\n",
    "        start_word = start_word.repeat(nb_batch, 1)\n",
    "\n",
    "        if cuda:\n",
    "            start_word = start_word.cuda()\n",
    "\n",
    "        h1 = self.h1.repeat(nb_batch, 1)\n",
    "        c1 = self.c1.repeat(nb_batch, 1)\n",
    "        h2 = self.h2.repeat(nb_batch, 1)\n",
    "        c2 = self.c2.repeat(nb_batch, 1)\n",
    "        state = [h1, c1, h2, c2]\n",
    "\n",
    "        return state, start_word\n",
    "\n",
    "    #########################################\n",
    "    #               BEAM SEARCH             #\n",
    "    #########################################\n",
    "    def beam_search(self, image_features, max_nb_words, beam_width, semantic_input):\n",
    "        # Initialize model\n",
    "        use_cuda = image_features.is_cuda\n",
    "        nb_batch, nb_image_feats, _ = image_features.size()\n",
    "\n",
    "        v_mean = image_features.mean(dim=1)\n",
    "        state, current_word = self.init_inference(nb_batch, use_cuda)\n",
    "\n",
    "        # Initialize beam search\n",
    "        end_word = indexto1hot(len(self.vocab), self.vocab('<end>'))\n",
    "        end_word = torch.from_numpy(end_word).float().unsqueeze(0)\n",
    "        end_word = end_word.cuda() if image_features.is_cuda else end_word\n",
    "        beam = Beam(beam_width)\n",
    "        s = Sentence(max_nb_words, beam_width, end_word, self.vocab)\n",
    "        s.update_state(1.0, state, current_word)\n",
    "        beam.push(s)\n",
    "\n",
    "        # Perform beam search\n",
    "        final_beam = Beam(beam_width)\n",
    "        while len(beam) > 0:\n",
    "            s = beam.pop()\n",
    "            new_sentences = self.update_states(s, image_features, v_mean, semantic_input)\n",
    "            for s in new_sentences:\n",
    "                if s.ended:\n",
    "                    final_beam.push(s)\n",
    "                else:\n",
    "                    beam.push(s)\n",
    "            # Get rid of low scoring sentences\n",
    "            beam.trim() \n",
    "            final_beam.trim()\n",
    "\n",
    "        # Extract final sentence\n",
    "        s = final_beam.pop() # Best sentence on top of heap\n",
    "        sentence = s.extract_sentence()\n",
    "        \n",
    "        return sentence\n",
    "\n",
    "    def update_states(self, s, image_feats, v_mean, semantic_input):\n",
    "        state, current_word = s.get_states()\n",
    "        y, state = self.forward_one_step(state, current_word, v_mean, image_feats, semantic_input)\n",
    "        y = self.remove_consecutive_words(y, current_word)\n",
    "        new_sentences = s.update_words(s, state, y)\n",
    "        return new_sentences\n",
    "\n",
    "    def remove_consecutive_words(self, y, prev_word):\n",
    "        # give previous word low score so as not to repeat words\n",
    "        y = y - 10**10 * prev_word\n",
    "        return y\n"
   ]
  },
  {
   "cell_type": "code",
   "execution_count": 64,
   "metadata": {},
   "outputs": [],
   "source": [
    "train_dataset = FullProductDataset(file_names_train, semantic_inputs_train, labels_train, \"data/images\", vocab, image_transformer)\n",
    "val_dataset = FullProductDataset(file_names_val, semantic_inputs_val, labels_val, \"data/images\", vocab, image_transformer)\n",
    "test_dataset = FullProductDataset(file_names_test, semantic_inputs_test, labels_test, \"data/images\", vocab, image_transformer)"
   ]
  },
  {
   "cell_type": "code",
   "execution_count": 40,
   "metadata": {},
   "outputs": [],
   "source": [
    "def bleu_score(reference, hypothesis, ngram):\n",
    "    weights = [0, 0, 0, 0]\n",
    "    weights[0:ngram] = [1/ngram for i in range(ngram)]\n",
    "    \n",
    "    return sentence_bleu([reference], hypothesis, weights=tuple(weights), auto_reweigh=True)"
   ]
  },
  {
   "cell_type": "code",
   "execution_count": 41,
   "metadata": {},
   "outputs": [],
   "source": [
    "def train_one_epoch(model, encoder, train_loader, optimizer, kbar):\n",
    "    \n",
    "    model.train()\n",
    "    \n",
    "    nb_batch = len(train_loader)\n",
    "\n",
    "    loss = torch.nn.CrossEntropyLoss()\n",
    "\n",
    "    epoch_loss = 0\n",
    "\n",
    "#     return 0\n",
    "    \n",
    "    for i, (images, semantic_inputs, captions, lengths) in enumerate(train_loader):\n",
    "        images = images.to(device)\n",
    "        semantic_inputs = semantic_inputs.to(device)\n",
    "        captions = captions.to(device)\n",
    "\n",
    "        # forward\n",
    "        image_feats = encoder(images)\n",
    "        image_feats = image_feats.unsqueeze(1).squeeze(3).squeeze(3)\n",
    "        outputs = model(image_feats, len(captions[0]), semantic_inputs, captions)\n",
    "\n",
    "        captions = captions[:, 1:]\n",
    "\n",
    "        decode_lengths = [x-1 for x in lengths]\n",
    "        captions, _, _, _ = pack_padded_sequence(captions, decode_lengths, batch_first=True)\n",
    "        outputs, _, _, _ = pack_padded_sequence(outputs, decode_lengths, batch_first = True)\n",
    "\n",
    "        batch_loss = loss(outputs, captions)\n",
    "        epoch_loss += batch_loss.item()\n",
    "\n",
    "        optimizer.zero_grad()\n",
    "        batch_loss.backward()\n",
    "        optimizer.step()\n",
    "        \n",
    "        kbar.update(i, values=[(\"loss\", batch_loss)])\n",
    "        \n",
    "    epoch_loss = epoch_loss / nb_batch \n",
    "    \n",
    "    return epoch_loss"
   ]
  },
  {
   "cell_type": "code",
   "execution_count": 42,
   "metadata": {},
   "outputs": [],
   "source": [
    "def val_one_epoch(model, val_loader, vocab, beam=None):\n",
    "    \n",
    "    model.eval()\n",
    "    \n",
    "    nb_batch = len(train_loader)\n",
    "\n",
    "    bleu3_scores = []\n",
    "\n",
    "    with torch.no_grad():\n",
    "        for i, (images, semantic_inputs, captions, lengths) in enumerate(val_loader):\n",
    "            images = images.to(device)\n",
    "            semantic_inputs = semantic_inputs.to(device)\n",
    "            captions = captions.to(device)\n",
    "            caption = captions[0]\n",
    "            \n",
    "            image_feats = encoder(images)\n",
    "            image_feats = image_feats.unsqueeze(1).squeeze(3).squeeze(3)\n",
    "            \n",
    "            caption_list = [vocab.get_word(wid.item()) for wid in caption if wid != 0]                \n",
    "            caption_list = caption_list[:-1]\n",
    "\n",
    "            output = model(image_feats, 14, semantic_inputs, None, beam=1)\n",
    "            output = output[1][1:-1] if output[1][-1] == end_token else output[1][1:]\n",
    " \n",
    "            bleu3_scores.append(bleu_score(caption_list, output, 3))\n",
    "            \n",
    "    bleu3_score_avg = sum(bleu3_scores)/len(bleu3_scores)\n",
    "\n",
    "    return bleu3_score_avg"
   ]
  },
  {
   "cell_type": "code",
   "execution_count": 51,
   "metadata": {},
   "outputs": [],
   "source": [
    "def train(model, train_loader, val_loader, vocab, optimizer, scheduler, max_epochs, current_epoch=0):\n",
    "    \n",
    "    since = time.time()\n",
    "\n",
    "    model = model.to(device)\n",
    "    \n",
    "    train_loss_array = []\n",
    "    val_bleu3_array = []\n",
    "\n",
    "    # some big number\n",
    "    min_val_loss = 10**5\n",
    "    max_bleu3_score = 0\n",
    "    train_epoch_array = []\n",
    "    val_epoch_array = []\n",
    "    \n",
    "#     if current_epoch == 0:\n",
    "#         bleu3_score, val_loss = val_one_epoch(model, val_loader, vocab, beam=None)\n",
    "#         print(\"Validation loss with random initialization. Loss: \" + str(val_loss) + \", BLEU3 score: \" + str(bleu3_score))\n",
    "    \n",
    "    while current_epoch < max_epochs:\n",
    "        current_epoch += 1\n",
    "        \n",
    "        print('Epoch {}/{}'.format(current_epoch, max_epochs))\n",
    "        kbar = pkbar.Kbar(target=len(train_loader), width=32)\n",
    "        \n",
    "        train_loss = train_one_epoch(model, encoder, train_loader, optimizer, kbar)\n",
    "        bleu3_score = val_one_epoch(model, val_loader, vocab, beam=None)\n",
    "        \n",
    "        scheduler.step(bleu3_score)\n",
    "\n",
    "        torch.save({\n",
    "            'epoch': current_epoch,\n",
    "            'model_state_dict': model.state_dict(),\n",
    "            'optimizer_state_dict': optimizer.state_dict(),\n",
    "            'scheduler_state_dict': scheduler.state_dict()\n",
    "        }, \"models/caption.epoch_\" + str(current_epoch))\n",
    "\n",
    "        kbar.add(1, values=[(\"loss\", train_loss), (\"BLEU3_score\", bleu3_score)])\n",
    "        \n",
    "        train_loss_array.append(train_loss)\n",
    "        val_bleu3_array.append(bleu3_score)\n",
    "        train_epoch_array.append(current_epoch)\n",
    "        val_epoch_array.append(current_epoch)\n",
    "        \n",
    "        # keep track of the best model and save it\n",
    "        if bleu3_score > max_bleu3_score:\n",
    "            max_bleu3_score = bleu3_score\n",
    "            torch.save({\n",
    "                'epoch': current_epoch,\n",
    "                'model_state_dict': model.state_dict(),\n",
    "                'optimizer_state_dict': optimizer.state_dict(),\n",
    "                'scheduler_state_dict': scheduler.state_dict()\n",
    "            }, \"models/caption.best_bleu3\")\n",
    "            \n",
    "    time_elapsed = time.time() - since\n",
    "    print('\\n')\n",
    "    print('Training complete in {:.0f}m {:.0f}s'.format(\n",
    "        time_elapsed // 60, time_elapsed % 60))\n",
    "    print('Best val BLEU3 score: {:4f}'.format(max_bleu3_score))\n",
    "    \n",
    "    return model, train_loss_array, val_bleu3_array, train_epoch_array, val_epoch_array"
   ]
  },
  {
   "cell_type": "code",
   "execution_count": 43,
   "metadata": {},
   "outputs": [],
   "source": [
    "WORD_EMB_DIM = 1000\n",
    "NB_HIDDEN_LSTM1 = 1000\n",
    "NB_HIDDEN_LSTM2 = 1000\n",
    "NB_HIDDEN_ATT = 512\n",
    "\n",
    "IMAGE_FEATURE_DIM = 2048\n",
    "FACTORED_DIM = 1024\n",
    "SEMANTIC_DIM = 1000\n",
    "\n",
    "TF_RATIO = 1"
   ]
  },
  {
   "cell_type": "code",
   "execution_count": 44,
   "metadata": {},
   "outputs": [],
   "source": [
    "caption_model = CaptionModel(len(vocab), IMAGE_FEATURE_DIM, vocab, TF_RATIO)\n",
    "caption_model = caption_model.cuda()\n",
    "current_epoch = 0"
   ]
  },
  {
   "cell_type": "code",
   "execution_count": null,
   "metadata": {},
   "outputs": [],
   "source": [
    "batch_size = 32\n",
    "lr = 3e-4\n",
    "optimizer = optim.Adam(caption_model.parameters(), lr=lr)\n",
    "epochs = 10\n",
    "# optimizer = optim.SGD(model.parameters(),\n",
    "#                       lr=args.lr,\n",
    "#                       momentum = 0.899999976158,\n",
    "#                       weight_decay=0.000500000023749)\n",
    "\n",
    "scheduler = ReduceLROnPlateau(optimizer, 'max')\n",
    "\n",
    "train_loader = DataLoader(train_dataset, batch_size=batch_size, shuffle=True, num_workers=0, collate_fn=collate_fn)\n",
    "val_loader = DataLoader(val_dataset, batch_size=1, shuffle=False, num_workers=0, collate_fn=collate_fn)"
   ]
  },
  {
   "cell_type": "code",
   "execution_count": 45,
   "metadata": {},
   "outputs": [
    {
     "data": {
      "text/plain": [
       "7"
      ]
     },
     "execution_count": 45,
     "metadata": {},
     "output_type": "execute_result"
    }
   ],
   "source": [
    "# load model\n",
    "checkpoint = torch.load(\"models/caption.best_bleu3__best\")\n",
    "caption_model.load_state_dict(checkpoint['model_state_dict'])\n",
    "current_epoch = checkpoint['epoch']\n",
    "# optimizer.load_state_dict(checkpoint['optimizer_state_dict'])\n",
    "# scheduler.load_state_dict(checkpoint['scheduler_state_dict'])\n",
    "current_epoch"
   ]
  },
  {
   "cell_type": "code",
   "execution_count": null,
   "metadata": {},
   "outputs": [
    {
     "name": "stdout",
     "output_type": "stream",
     "text": [
      "Epoch 1/10\n",
      "1000/1001 [==============================>.] - ETA: 1s - loss: 3.1729"
     ]
    },
    {
     "name": "stderr",
     "output_type": "stream",
     "text": [
      "/opt/conda/lib/python3.7/site-packages/nltk/translate/bleu_score.py:523: UserWarning: \n",
      "The hypothesis contains 0 counts of 3-gram overlaps.\n",
      "Therefore the BLEU score evaluates to 0, independently of\n",
      "how many N-gram overlaps of lower order it contains.\n",
      "Consider using lower n-gram order or use SmoothingFunction()\n",
      "  warnings.warn(_msg)\n",
      "/opt/conda/lib/python3.7/site-packages/nltk/translate/bleu_score.py:523: UserWarning: \n",
      "The hypothesis contains 0 counts of 4-gram overlaps.\n",
      "Therefore the BLEU score evaluates to 0, independently of\n",
      "how many N-gram overlaps of lower order it contains.\n",
      "Consider using lower n-gram order or use SmoothingFunction()\n",
      "  warnings.warn(_msg)\n",
      "/opt/conda/lib/python3.7/site-packages/nltk/translate/bleu_score.py:523: UserWarning: \n",
      "The hypothesis contains 0 counts of 2-gram overlaps.\n",
      "Therefore the BLEU score evaluates to 0, independently of\n",
      "how many N-gram overlaps of lower order it contains.\n",
      "Consider using lower n-gram order or use SmoothingFunction()\n",
      "  warnings.warn(_msg)\n"
     ]
    },
    {
     "name": "stdout",
     "output_type": "stream",
     "text": [
      "1001/1001 [================================] - 1980s 2s/step - loss: 3.1729 - BLEU3_score: 0.3538\n",
      "Epoch 2/10\n",
      " 432/1001 [============>...................] - ETA: 9:04 - loss: 1.4234"
     ]
    }
   ],
   "source": [
    "caption_model, train_loss_array, val_bleu3_array, train_epoch_array, val_epoch_array = train(\n",
    "    caption_model,\n",
    "    train_loader,\n",
    "    val_loader,\n",
    "    vocab,\n",
    "    optimizer,\n",
    "    scheduler,\n",
    "    epochs,\n",
    "    current_epoch\n",
    ")"
   ]
  },
  {
   "cell_type": "code",
   "execution_count": 59,
   "metadata": {},
   "outputs": [
    {
     "name": "stdout",
     "output_type": "stream",
     "text": [
      "0.5340089864685431\n",
      "[3.178647571272188, 1.3408469779269916, 0.9974497529891106, 0.8019165544659941, 0.6578643548857797, 0.549303084522575, 0.4624439488787513, 0.3910456654447299, 0.3308760303479213, 0.2804266039308134]\n"
     ]
    }
   ],
   "source": [
    "print(max(val_bleu3_array))\n",
    "print(train_loss_array)"
   ]
  },
  {
   "cell_type": "code",
   "execution_count": 148,
   "metadata": {},
   "outputs": [
    {
     "data": {
      "image/png": "[encoded data removed]",
      "text/plain": [
       "<Figure size 432x288 with 1 Axes>"
      ]
     },
     "metadata": {
      "needs_background": "light"
     },
     "output_type": "display_data"
    }
   ],
   "source": [
    "plt.plot(val_epoch_array, val_bleu3_array, label = 'Validation BLEU3 score')\n",
    "plt.legend()\n",
    "plt.xlabel('Epoch')\n",
    "plt.ylabel('BLEU3 score')\n",
    "plt.show()"
   ]
  },
  {
   "cell_type": "markdown",
   "metadata": {},
   "source": [
    "### Predict"
   ]
  },
  {
   "cell_type": "code",
   "execution_count": 46,
   "metadata": {},
   "outputs": [],
   "source": [
    "import rouge"
   ]
  },
  {
   "cell_type": "code",
   "execution_count": 47,
   "metadata": {},
   "outputs": [],
   "source": [
    "def rouge_score(reference, hypothesis):\n",
    "\n",
    "    evaluator = rouge.Rouge(metrics=['rouge-l'])\n",
    "    return evaluator.get_scores([hypothesis], [reference])['rouge-l']['f']"
   ]
  },
  {
   "cell_type": "code",
   "execution_count": 48,
   "metadata": {},
   "outputs": [],
   "source": [
    "def predict(model, val_loader, vocab, beam=5):\n",
    "    \n",
    "    model.eval()\n",
    "\n",
    "    rouge_scores = []\n",
    "    bleu1_scores = []\n",
    "    bleu2_scores = []\n",
    "    bleu3_scores = []\n",
    "    bleu4_scores = []\n",
    "\n",
    "    with torch.no_grad():\n",
    "        for i, (images, semantic_inputs, captions, lengths) in enumerate(val_loader):\n",
    "            images = images.to(device)\n",
    "            semantic_inputs = semantic_inputs.to(device)\n",
    "            captions = captions.to(device)\n",
    "            caption = captions[0]\n",
    "            \n",
    "            image_feats = encoder(images)\n",
    "            image_feats = image_feats.unsqueeze(1).squeeze(3).squeeze(3)\n",
    "            \n",
    "            caption_list = [vocab.get_word(wid.item()) for wid in caption if wid != 0]                \n",
    "            caption_list = caption_list[:-1]\n",
    "            caption_sentence = ' '.join(caption_list)\n",
    "            \n",
    "            output = model(image_feats, 14, semantic_inputs, None, beam=beam)\n",
    "            output = output[1][1:-1] if output[1][-1] == end_token else output[1][1:]\n",
    "            output_sentence = ' '.join(output)\n",
    "\n",
    "            rouge_scores.append(rouge_score(caption_sentence, output_sentence))\n",
    "            bleu1_scores.append(bleu_score(caption_list, output, 1))\n",
    "            bleu2_scores.append(bleu_score(caption_list, output, 2))\n",
    "            bleu3_scores.append(bleu_score(caption_list, output, 3))\n",
    "            try:\n",
    "                bleu4_scores.append(bleu_score(caption_list, output, 4))\n",
    "            except:\n",
    "                bleu4_scores.append(0)\n",
    "            \n",
    "#             if i % 500 == 0:\n",
    "#                 print(i)\n",
    "            \n",
    "            print(\"Ref:\", caption_sentence)\n",
    "            print(\"Hyp:\", output_sentence)\n",
    "\n",
    "    rouge_score_avg = sum(rouge_scores)/len(rouge_scores)\n",
    "    bleu1_score_avg = sum(bleu1_scores)/len(bleu1_scores)\n",
    "    bleu2_score_avg = sum(bleu2_scores)/len(bleu2_scores)\n",
    "    bleu3_score_avg = sum(bleu3_scores)/len(bleu3_scores)\n",
    "    bleu4_score_avg = sum(bleu4_scores)/len(bleu4_scores)\n",
    "    \n",
    "    return rouge_score_avg, bleu1_score_avg, bleu2_score_avg, bleu3_score_avg, bleu4_score_avg"
   ]
  },
  {
   "cell_type": "code",
   "execution_count": 50,
   "metadata": {},
   "outputs": [
    {
     "name": "stdout",
     "output_type": "stream",
     "text": [
      "data/images/2845.jpg\n",
      "Ref: mr men men mr noisy blue t-shirt\n",
      "Hyp: mr men blue forgetful t-shirt\n",
      "data/images/19766.jpg\n",
      "Ref: ice unisex sili pink watch\n",
      "Hyp: ice unisex sili pink watch\n",
      "data/images/32157.jpg\n",
      "Ref: playboy women playmate lavender ankle socks\n",
      "Hyp: playboy women playmate pink ankle socks\n",
      "data/images/32272.jpg\n",
      "Ref: vishudh women printed purple kurta\n",
      "Hyp: vishudh women printed multi kurta\n",
      "data/images/32863.jpg\n",
      "Ref: wildcraft unisex black and grey backpack\n",
      "Hyp: wildcraft unisex black and grey backpack\n",
      "data/images/48332.jpg\n",
      "Ref: pitaraa golden fish scale necklace\n",
      "Hyp: pitaraa golden frame necklace\n"
     ]
    }
   ],
   "source": [
    "id_ = [19766,\n",
    " 32863,\n",
    " 2845,\n",
    " 32272,\n",
    " 32157,\n",
    " 48332]\n",
    "test_df = df[df.id.isin(id_)]\n",
    "file_names_train = test_df['file_name'].values\n",
    "semantic_inputs_train = test_df['tags_pred'].values\n",
    "labels_train = test_df['tokenized'].values\n",
    "\n",
    "test_dataset = FullProductDataset(file_names_train, semantic_inputs_train, labels_train, \"data/images\", vocab, image_transformer)\n",
    "pred_loader = DataLoader(test_dataset, batch_size=1, shuffle=False, num_workers=0, collate_fn=collate_fn)\n",
    "\n",
    "rouge_score_avg, bleu1_score_avg, bleu2_score_avg, bleu3_score_avg, bleu4_score_avg = predict(caption_model, pred_loader, vocab, beam=5)"
   ]
  },
  {
   "cell_type": "code",
   "execution_count": 80,
   "metadata": {},
   "outputs": [
    {
     "name": "stdout",
     "output_type": "stream",
     "text": [
      "0.7692307692307692 0.8187307530779819 0.40936537653899097 1.450672072402116e-103 8.635715405417689e-155\n"
     ]
    }
   ],
   "source": [
    "print(rouge_score_avg, bleu1_score_avg, bleu2_score_avg, bleu3_score_avg, bleu4_score_avg)"
   ]
  },
  {
   "cell_type": "code",
   "execution_count": null,
   "metadata": {},
   "outputs": [],
   "source": []
  }
 ],
 "metadata": {
  "environment": {
   "name": "pytorch-gpu.1-4.m46",
   "type": "gcloud",
   "uri": "gcr.io/deeplearning-platform-release/pytorch-gpu.1-4:m46"
  },
  "kernelspec": {
   "display_name": "Python 3",
   "language": "python",
   "name": "python3"
  },
  "language_info": {
   "codemirror_mode": {
    "name": "ipython",
    "version": 3
   },
   "file_extension": ".py",
   "mimetype": "text/x-python",
   "name": "python",
   "nbconvert_exporter": "python",
   "pygments_lexer": "ipython3",
   "version": "3.7.6"
  }
 },
 "nbformat": 4,
 "nbformat_minor": 4
}
